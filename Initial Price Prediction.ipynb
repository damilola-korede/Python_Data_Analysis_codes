{
 "cells": [
  {
   "cell_type": "code",
   "execution_count": 1,
   "id": "488b9b46-6ed8-4554-98d5-0b81d3a8ff0a",
   "metadata": {},
   "outputs": [],
   "source": [
    "import pandas as pd\n",
    "import matplotlib.pyplot as plt\n",
    "import seaborn as sns\n",
    "import plotly.express as px"
   ]
  },
  {
   "cell_type": "code",
   "execution_count": 2,
   "id": "a0888db8-79a4-48e3-8cb3-fade4842bb0a",
   "metadata": {},
   "outputs": [],
   "source": [
    "from category_encoders import OneHotEncoder\n",
    "from sklearn.impute import SimpleImputer\n",
    "from sklearn.linear_model import LinearRegression, Ridge\n",
    "from sklearn.metrics import mean_absolute_error\n",
    "from sklearn.pipeline import make_pipeline\n",
    "from sklearn.utils.validation import check_is_fitted\n",
    "from ipywidgets import Dropdown, FloatSlider, IntSlider, interact"
   ]
  },
  {
   "cell_type": "code",
   "execution_count": 3,
   "id": "6dd1e0cf-8ede-4573-93ee-482fd5f2b451",
   "metadata": {},
   "outputs": [],
   "source": [
    "df = pd.read_csv(r\"C:\\Users\\HP\\Desktop\\JN\\apartment_cost_list.csv\")"
   ]
  },
  {
   "cell_type": "code",
   "execution_count": 4,
   "id": "6ff2c162-8824-4ac1-bb6a-de3d6d735502",
   "metadata": {},
   "outputs": [
    {
     "data": {
      "text/html": [
       "<div>\n",
       "<style scoped>\n",
       "    .dataframe tbody tr th:only-of-type {\n",
       "        vertical-align: middle;\n",
       "    }\n",
       "\n",
       "    .dataframe tbody tr th {\n",
       "        vertical-align: top;\n",
       "    }\n",
       "\n",
       "    .dataframe thead th {\n",
       "        text-align: right;\n",
       "    }\n",
       "</style>\n",
       "<table border=\"1\" class=\"dataframe\">\n",
       "  <thead>\n",
       "    <tr style=\"text-align: right;\">\n",
       "      <th></th>\n",
       "      <th>Job #</th>\n",
       "      <th>Borough</th>\n",
       "      <th>House #</th>\n",
       "      <th>Street Name</th>\n",
       "      <th>Block</th>\n",
       "      <th>Lot</th>\n",
       "      <th>Bin #</th>\n",
       "      <th>Job Type</th>\n",
       "      <th>Community - Board</th>\n",
       "      <th>Curb Cut</th>\n",
       "      <th>Fully Permitted</th>\n",
       "      <th>Initial Cost</th>\n",
       "      <th>Proposed Zoning Sqft</th>\n",
       "      <th>Horizontal Enlrgmt</th>\n",
       "      <th>Vertical Enlrgmt</th>\n",
       "      <th>Enlargement SQ Footage</th>\n",
       "      <th>Zoning Dist1</th>\n",
       "      <th>Job Description</th>\n",
       "    </tr>\n",
       "  </thead>\n",
       "  <tbody>\n",
       "    <tr>\n",
       "      <th>0</th>\n",
       "      <td>123768976</td>\n",
       "      <td>MANHATTAN</td>\n",
       "      <td>1598</td>\n",
       "      <td>2ND AVENUE</td>\n",
       "      <td>1545</td>\n",
       "      <td>49</td>\n",
       "      <td>1049907</td>\n",
       "      <td>A2</td>\n",
       "      <td>108</td>\n",
       "      <td>NaN</td>\n",
       "      <td>NaN</td>\n",
       "      <td>$65000.00</td>\n",
       "      <td>0</td>\n",
       "      <td>NaN</td>\n",
       "      <td>NaN</td>\n",
       "      <td>0</td>\n",
       "      <td>C1-9</td>\n",
       "      <td>INTERIOR RENOVATION TO COMBINE APARTMENT 2E AN...</td>\n",
       "    </tr>\n",
       "    <tr>\n",
       "      <th>1</th>\n",
       "      <td>140922893</td>\n",
       "      <td>MANHATTAN</td>\n",
       "      <td>160</td>\n",
       "      <td>E 89 ST</td>\n",
       "      <td>1517</td>\n",
       "      <td>43</td>\n",
       "      <td>1048094</td>\n",
       "      <td>A2</td>\n",
       "      <td>108</td>\n",
       "      <td>NaN</td>\n",
       "      <td>07/14/2020</td>\n",
       "      <td>$85000.00</td>\n",
       "      <td>0</td>\n",
       "      <td>NaN</td>\n",
       "      <td>NaN</td>\n",
       "      <td>0</td>\n",
       "      <td>R8B</td>\n",
       "      <td>HEREBY FILING APPLICATION FOR THE INTERIOR REN...</td>\n",
       "    </tr>\n",
       "    <tr>\n",
       "      <th>2</th>\n",
       "      <td>301773579</td>\n",
       "      <td>BROOKLYN</td>\n",
       "      <td>65</td>\n",
       "      <td>GATES AVENUE</td>\n",
       "      <td>1962</td>\n",
       "      <td>86</td>\n",
       "      <td>3056039</td>\n",
       "      <td>A1</td>\n",
       "      <td>302</td>\n",
       "      <td>NaN</td>\n",
       "      <td>05/23/2007</td>\n",
       "      <td>$60000.00</td>\n",
       "      <td>0</td>\n",
       "      <td>NaN</td>\n",
       "      <td>NaN</td>\n",
       "      <td>0</td>\n",
       "      <td>R6</td>\n",
       "      <td>Change existing four story and basement brick ...</td>\n",
       "    </tr>\n",
       "    <tr>\n",
       "      <th>3</th>\n",
       "      <td>301976057</td>\n",
       "      <td>BROOKLYN</td>\n",
       "      <td>1401</td>\n",
       "      <td>OCEAN AVENUE</td>\n",
       "      <td>7584</td>\n",
       "      <td>35</td>\n",
       "      <td>3206621</td>\n",
       "      <td>A2</td>\n",
       "      <td>314</td>\n",
       "      <td>NaN</td>\n",
       "      <td>02/28/2006</td>\n",
       "      <td>$75000.00</td>\n",
       "      <td>0</td>\n",
       "      <td>NaN</td>\n",
       "      <td>NaN</td>\n",
       "      <td>0</td>\n",
       "      <td>NaN</td>\n",
       "      <td>COMBINING OF APARTMENT 4A &amp;amp; 4L.NO CHANGEIN...</td>\n",
       "    </tr>\n",
       "    <tr>\n",
       "      <th>4</th>\n",
       "      <td>301989276</td>\n",
       "      <td>BROOKLYN</td>\n",
       "      <td>154</td>\n",
       "      <td>NOBLE STREET</td>\n",
       "      <td>2573</td>\n",
       "      <td>10</td>\n",
       "      <td>3065099</td>\n",
       "      <td>A1</td>\n",
       "      <td>301</td>\n",
       "      <td>NaN</td>\n",
       "      <td>09/29/2006</td>\n",
       "      <td>$40000.00</td>\n",
       "      <td>0</td>\n",
       "      <td>NaN</td>\n",
       "      <td>NaN</td>\n",
       "      <td>0</td>\n",
       "      <td>C4-3</td>\n",
       "      <td>New C of O for existing building. New duplex a...</td>\n",
       "    </tr>\n",
       "  </tbody>\n",
       "</table>\n",
       "</div>"
      ],
      "text/plain": [
       "       Job #    Borough House #   Street Name  Block  Lot    Bin # Job Type  \\\n",
       "0  123768976  MANHATTAN    1598    2ND AVENUE   1545   49  1049907       A2   \n",
       "1  140922893  MANHATTAN     160       E 89 ST   1517   43  1048094       A2   \n",
       "2  301773579   BROOKLYN      65  GATES AVENUE   1962   86  3056039       A1   \n",
       "3  301976057   BROOKLYN    1401  OCEAN AVENUE   7584   35  3206621       A2   \n",
       "4  301989276   BROOKLYN     154  NOBLE STREET   2573   10  3065099       A1   \n",
       "\n",
       "   Community - Board Curb Cut Fully Permitted Initial Cost  \\\n",
       "0                108      NaN             NaN    $65000.00   \n",
       "1                108      NaN      07/14/2020    $85000.00   \n",
       "2                302      NaN      05/23/2007    $60000.00   \n",
       "3                314      NaN      02/28/2006    $75000.00   \n",
       "4                301      NaN      09/29/2006    $40000.00   \n",
       "\n",
       "   Proposed Zoning Sqft Horizontal Enlrgmt Vertical Enlrgmt  \\\n",
       "0                     0                NaN              NaN   \n",
       "1                     0                NaN              NaN   \n",
       "2                     0                NaN              NaN   \n",
       "3                     0                NaN              NaN   \n",
       "4                     0                NaN              NaN   \n",
       "\n",
       "   Enlargement SQ Footage Zoning Dist1  \\\n",
       "0                       0         C1-9   \n",
       "1                       0          R8B   \n",
       "2                       0           R6   \n",
       "3                       0          NaN   \n",
       "4                       0         C4-3   \n",
       "\n",
       "                                     Job Description  \n",
       "0  INTERIOR RENOVATION TO COMBINE APARTMENT 2E AN...  \n",
       "1  HEREBY FILING APPLICATION FOR THE INTERIOR REN...  \n",
       "2  Change existing four story and basement brick ...  \n",
       "3  COMBINING OF APARTMENT 4A &amp; 4L.NO CHANGEIN...  \n",
       "4  New C of O for existing building. New duplex a...  "
      ]
     },
     "execution_count": 4,
     "metadata": {},
     "output_type": "execute_result"
    }
   ],
   "source": [
    "df.head()"
   ]
  },
  {
   "cell_type": "code",
   "execution_count": 5,
   "id": "b8e17097-ad23-44f8-97f9-dfb9345ec3dd",
   "metadata": {},
   "outputs": [
    {
     "data": {
      "text/html": [
       "<div>\n",
       "<style scoped>\n",
       "    .dataframe tbody tr th:only-of-type {\n",
       "        vertical-align: middle;\n",
       "    }\n",
       "\n",
       "    .dataframe tbody tr th {\n",
       "        vertical-align: top;\n",
       "    }\n",
       "\n",
       "    .dataframe thead th {\n",
       "        text-align: right;\n",
       "    }\n",
       "</style>\n",
       "<table border=\"1\" class=\"dataframe\">\n",
       "  <thead>\n",
       "    <tr style=\"text-align: right;\">\n",
       "      <th></th>\n",
       "      <th>Job #</th>\n",
       "      <th>Borough</th>\n",
       "      <th>House #</th>\n",
       "      <th>Street Name</th>\n",
       "      <th>Block</th>\n",
       "      <th>Lot</th>\n",
       "      <th>Bin #</th>\n",
       "      <th>Job Type</th>\n",
       "      <th>Community - Board</th>\n",
       "      <th>Curb Cut</th>\n",
       "      <th>Fully Permitted</th>\n",
       "      <th>Initial Cost</th>\n",
       "      <th>Proposed Zoning Sqft</th>\n",
       "      <th>Horizontal Enlrgmt</th>\n",
       "      <th>Vertical Enlrgmt</th>\n",
       "      <th>Enlargement SQ Footage</th>\n",
       "      <th>Zoning Dist1</th>\n",
       "      <th>Job Description</th>\n",
       "    </tr>\n",
       "  </thead>\n",
       "  <tbody>\n",
       "  </tbody>\n",
       "</table>\n",
       "</div>"
      ],
      "text/plain": [
       "Empty DataFrame\n",
       "Columns: [Job #, Borough, House #, Street Name, Block, Lot, Bin #, Job Type, Community - Board, Curb Cut, Fully Permitted, Initial Cost, Proposed Zoning Sqft, Horizontal Enlrgmt, Vertical Enlrgmt, Enlargement SQ Footage, Zoning Dist1, Job Description]\n",
       "Index: []"
      ]
     },
     "execution_count": 5,
     "metadata": {},
     "output_type": "execute_result"
    }
   ],
   "source": [
    "df.dropna()"
   ]
  },
  {
   "cell_type": "code",
   "execution_count": 6,
   "id": "115f0beb-c7f1-4e9d-b84b-64d6656267dd",
   "metadata": {},
   "outputs": [
    {
     "data": {
      "text/html": [
       "<div>\n",
       "<style scoped>\n",
       "    .dataframe tbody tr th:only-of-type {\n",
       "        vertical-align: middle;\n",
       "    }\n",
       "\n",
       "    .dataframe tbody tr th {\n",
       "        vertical-align: top;\n",
       "    }\n",
       "\n",
       "    .dataframe thead th {\n",
       "        text-align: right;\n",
       "    }\n",
       "</style>\n",
       "<table border=\"1\" class=\"dataframe\">\n",
       "  <thead>\n",
       "    <tr style=\"text-align: right;\">\n",
       "      <th></th>\n",
       "      <th>Job #</th>\n",
       "      <th>Borough</th>\n",
       "      <th>House #</th>\n",
       "      <th>Street Name</th>\n",
       "      <th>Block</th>\n",
       "      <th>Lot</th>\n",
       "      <th>Bin #</th>\n",
       "      <th>Job Type</th>\n",
       "      <th>Community - Board</th>\n",
       "      <th>Curb Cut</th>\n",
       "      <th>Fully Permitted</th>\n",
       "      <th>Initial Cost</th>\n",
       "      <th>Proposed Zoning Sqft</th>\n",
       "      <th>Horizontal Enlrgmt</th>\n",
       "      <th>Vertical Enlrgmt</th>\n",
       "      <th>Enlargement SQ Footage</th>\n",
       "      <th>Zoning Dist1</th>\n",
       "      <th>Job Description</th>\n",
       "    </tr>\n",
       "  </thead>\n",
       "  <tbody>\n",
       "    <tr>\n",
       "      <th>0</th>\n",
       "      <td>123768976</td>\n",
       "      <td>MANHATTAN</td>\n",
       "      <td>1598</td>\n",
       "      <td>2ND AVENUE</td>\n",
       "      <td>1545</td>\n",
       "      <td>49</td>\n",
       "      <td>1049907</td>\n",
       "      <td>A2</td>\n",
       "      <td>108</td>\n",
       "      <td>NaN</td>\n",
       "      <td>NaN</td>\n",
       "      <td>$65000.00</td>\n",
       "      <td>0</td>\n",
       "      <td>NaN</td>\n",
       "      <td>NaN</td>\n",
       "      <td>0</td>\n",
       "      <td>C1-9</td>\n",
       "      <td>INTERIOR RENOVATION TO COMBINE APARTMENT 2E AN...</td>\n",
       "    </tr>\n",
       "    <tr>\n",
       "      <th>1</th>\n",
       "      <td>140922893</td>\n",
       "      <td>MANHATTAN</td>\n",
       "      <td>160</td>\n",
       "      <td>E 89 ST</td>\n",
       "      <td>1517</td>\n",
       "      <td>43</td>\n",
       "      <td>1048094</td>\n",
       "      <td>A2</td>\n",
       "      <td>108</td>\n",
       "      <td>NaN</td>\n",
       "      <td>07/14/2020</td>\n",
       "      <td>$85000.00</td>\n",
       "      <td>0</td>\n",
       "      <td>NaN</td>\n",
       "      <td>NaN</td>\n",
       "      <td>0</td>\n",
       "      <td>R8B</td>\n",
       "      <td>HEREBY FILING APPLICATION FOR THE INTERIOR REN...</td>\n",
       "    </tr>\n",
       "    <tr>\n",
       "      <th>2</th>\n",
       "      <td>301773579</td>\n",
       "      <td>BROOKLYN</td>\n",
       "      <td>65</td>\n",
       "      <td>GATES AVENUE</td>\n",
       "      <td>1962</td>\n",
       "      <td>86</td>\n",
       "      <td>3056039</td>\n",
       "      <td>A1</td>\n",
       "      <td>302</td>\n",
       "      <td>NaN</td>\n",
       "      <td>05/23/2007</td>\n",
       "      <td>$60000.00</td>\n",
       "      <td>0</td>\n",
       "      <td>NaN</td>\n",
       "      <td>NaN</td>\n",
       "      <td>0</td>\n",
       "      <td>R6</td>\n",
       "      <td>Change existing four story and basement brick ...</td>\n",
       "    </tr>\n",
       "    <tr>\n",
       "      <th>3</th>\n",
       "      <td>301976057</td>\n",
       "      <td>BROOKLYN</td>\n",
       "      <td>1401</td>\n",
       "      <td>OCEAN AVENUE</td>\n",
       "      <td>7584</td>\n",
       "      <td>35</td>\n",
       "      <td>3206621</td>\n",
       "      <td>A2</td>\n",
       "      <td>314</td>\n",
       "      <td>NaN</td>\n",
       "      <td>02/28/2006</td>\n",
       "      <td>$75000.00</td>\n",
       "      <td>0</td>\n",
       "      <td>NaN</td>\n",
       "      <td>NaN</td>\n",
       "      <td>0</td>\n",
       "      <td>NaN</td>\n",
       "      <td>COMBINING OF APARTMENT 4A &amp;amp; 4L.NO CHANGEIN...</td>\n",
       "    </tr>\n",
       "    <tr>\n",
       "      <th>4</th>\n",
       "      <td>301989276</td>\n",
       "      <td>BROOKLYN</td>\n",
       "      <td>154</td>\n",
       "      <td>NOBLE STREET</td>\n",
       "      <td>2573</td>\n",
       "      <td>10</td>\n",
       "      <td>3065099</td>\n",
       "      <td>A1</td>\n",
       "      <td>301</td>\n",
       "      <td>NaN</td>\n",
       "      <td>09/29/2006</td>\n",
       "      <td>$40000.00</td>\n",
       "      <td>0</td>\n",
       "      <td>NaN</td>\n",
       "      <td>NaN</td>\n",
       "      <td>0</td>\n",
       "      <td>C4-3</td>\n",
       "      <td>New C of O for existing building. New duplex a...</td>\n",
       "    </tr>\n",
       "  </tbody>\n",
       "</table>\n",
       "</div>"
      ],
      "text/plain": [
       "       Job #    Borough House #   Street Name  Block  Lot    Bin # Job Type  \\\n",
       "0  123768976  MANHATTAN    1598    2ND AVENUE   1545   49  1049907       A2   \n",
       "1  140922893  MANHATTAN     160       E 89 ST   1517   43  1048094       A2   \n",
       "2  301773579   BROOKLYN      65  GATES AVENUE   1962   86  3056039       A1   \n",
       "3  301976057   BROOKLYN    1401  OCEAN AVENUE   7584   35  3206621       A2   \n",
       "4  301989276   BROOKLYN     154  NOBLE STREET   2573   10  3065099       A1   \n",
       "\n",
       "   Community - Board Curb Cut Fully Permitted Initial Cost  \\\n",
       "0                108      NaN             NaN    $65000.00   \n",
       "1                108      NaN      07/14/2020    $85000.00   \n",
       "2                302      NaN      05/23/2007    $60000.00   \n",
       "3                314      NaN      02/28/2006    $75000.00   \n",
       "4                301      NaN      09/29/2006    $40000.00   \n",
       "\n",
       "   Proposed Zoning Sqft Horizontal Enlrgmt Vertical Enlrgmt  \\\n",
       "0                     0                NaN              NaN   \n",
       "1                     0                NaN              NaN   \n",
       "2                     0                NaN              NaN   \n",
       "3                     0                NaN              NaN   \n",
       "4                     0                NaN              NaN   \n",
       "\n",
       "   Enlargement SQ Footage Zoning Dist1  \\\n",
       "0                       0         C1-9   \n",
       "1                       0          R8B   \n",
       "2                       0           R6   \n",
       "3                       0          NaN   \n",
       "4                       0         C4-3   \n",
       "\n",
       "                                     Job Description  \n",
       "0  INTERIOR RENOVATION TO COMBINE APARTMENT 2E AN...  \n",
       "1  HEREBY FILING APPLICATION FOR THE INTERIOR REN...  \n",
       "2  Change existing four story and basement brick ...  \n",
       "3  COMBINING OF APARTMENT 4A &amp; 4L.NO CHANGEIN...  \n",
       "4  New C of O for existing building. New duplex a...  "
      ]
     },
     "execution_count": 6,
     "metadata": {},
     "output_type": "execute_result"
    }
   ],
   "source": [
    "df.head()"
   ]
  },
  {
   "cell_type": "code",
   "execution_count": 7,
   "id": "a1ccbd45-c3e5-4bc3-853c-8fb6d363fee8",
   "metadata": {},
   "outputs": [
    {
     "data": {
      "text/html": [
       "<div>\n",
       "<style scoped>\n",
       "    .dataframe tbody tr th:only-of-type {\n",
       "        vertical-align: middle;\n",
       "    }\n",
       "\n",
       "    .dataframe tbody tr th {\n",
       "        vertical-align: top;\n",
       "    }\n",
       "\n",
       "    .dataframe thead th {\n",
       "        text-align: right;\n",
       "    }\n",
       "</style>\n",
       "<table border=\"1\" class=\"dataframe\">\n",
       "  <thead>\n",
       "    <tr style=\"text-align: right;\">\n",
       "      <th></th>\n",
       "      <th>Job #</th>\n",
       "      <th>Borough</th>\n",
       "      <th>House #</th>\n",
       "      <th>Street Name</th>\n",
       "      <th>Block</th>\n",
       "      <th>Lot</th>\n",
       "      <th>Bin #</th>\n",
       "      <th>Job Type</th>\n",
       "      <th>Community - Board</th>\n",
       "      <th>Curb Cut</th>\n",
       "      <th>Fully Permitted</th>\n",
       "      <th>Initial Cost</th>\n",
       "      <th>Proposed Zoning Sqft</th>\n",
       "      <th>Horizontal Enlrgmt</th>\n",
       "      <th>Vertical Enlrgmt</th>\n",
       "      <th>Enlargement SQ Footage</th>\n",
       "      <th>Zoning Dist1</th>\n",
       "      <th>Job Description</th>\n",
       "    </tr>\n",
       "  </thead>\n",
       "  <tbody>\n",
       "    <tr>\n",
       "      <th>19608</th>\n",
       "      <td>122923649</td>\n",
       "      <td>MANHATTAN</td>\n",
       "      <td>315</td>\n",
       "      <td>WEST 33RD STREET</td>\n",
       "      <td>757</td>\n",
       "      <td>22</td>\n",
       "      <td>1013552</td>\n",
       "      <td>A2</td>\n",
       "      <td>104</td>\n",
       "      <td>NaN</td>\n",
       "      <td>03/21/2017</td>\n",
       "      <td>$60000.00</td>\n",
       "      <td>0</td>\n",
       "      <td>NaN</td>\n",
       "      <td>NaN</td>\n",
       "      <td>0</td>\n",
       "      <td>C6-4</td>\n",
       "      <td>RENOVATION OF APARTMENTS 8N &amp;amp; 12A. ARCHITE...</td>\n",
       "    </tr>\n",
       "    <tr>\n",
       "      <th>19609</th>\n",
       "      <td>121090112</td>\n",
       "      <td>MANHATTAN</td>\n",
       "      <td>110</td>\n",
       "      <td>DUANE STREET</td>\n",
       "      <td>150</td>\n",
       "      <td>22</td>\n",
       "      <td>1001645</td>\n",
       "      <td>A2</td>\n",
       "      <td>101</td>\n",
       "      <td>NaN</td>\n",
       "      <td>07/17/2012</td>\n",
       "      <td>$40000.00</td>\n",
       "      <td>0</td>\n",
       "      <td>NaN</td>\n",
       "      <td>NaN</td>\n",
       "      <td>0</td>\n",
       "      <td>C6-2A</td>\n",
       "      <td>APARTMENT RENVOATION AT APT #4R. DEMOLISH AND ...</td>\n",
       "    </tr>\n",
       "    <tr>\n",
       "      <th>19610</th>\n",
       "      <td>102937342</td>\n",
       "      <td>MANHATTAN</td>\n",
       "      <td>166</td>\n",
       "      <td>BANK STREET</td>\n",
       "      <td>638</td>\n",
       "      <td>4</td>\n",
       "      <td>1078335</td>\n",
       "      <td>A2</td>\n",
       "      <td>102</td>\n",
       "      <td>NaN</td>\n",
       "      <td>02/07/2001</td>\n",
       "      <td>$80000.00</td>\n",
       "      <td>0</td>\n",
       "      <td>NaN</td>\n",
       "      <td>NaN</td>\n",
       "      <td>0</td>\n",
       "      <td>C6-2</td>\n",
       "      <td>Interior renovation of an existing apartment. ...</td>\n",
       "    </tr>\n",
       "    <tr>\n",
       "      <th>19611</th>\n",
       "      <td>200838558</td>\n",
       "      <td>BRONX</td>\n",
       "      <td>2762</td>\n",
       "      <td>KINGSBRIDGE TERRACE</td>\n",
       "      <td>3253</td>\n",
       "      <td>90</td>\n",
       "      <td>2015521</td>\n",
       "      <td>A2</td>\n",
       "      <td>208</td>\n",
       "      <td>NaN</td>\n",
       "      <td>NaN</td>\n",
       "      <td>$40000.00</td>\n",
       "      <td>0</td>\n",
       "      <td>NaN</td>\n",
       "      <td>NaN</td>\n",
       "      <td>0</td>\n",
       "      <td>R6</td>\n",
       "      <td>Proposed to renovate existing apartments. No c...</td>\n",
       "    </tr>\n",
       "    <tr>\n",
       "      <th>19612</th>\n",
       "      <td>301429158</td>\n",
       "      <td>BROOKLYN</td>\n",
       "      <td>802</td>\n",
       "      <td>HOWARD AVENUE</td>\n",
       "      <td>3565</td>\n",
       "      <td>42</td>\n",
       "      <td>3081797</td>\n",
       "      <td>A2</td>\n",
       "      <td>316</td>\n",
       "      <td>NaN</td>\n",
       "      <td>NaN</td>\n",
       "      <td>$60000.00</td>\n",
       "      <td>0</td>\n",
       "      <td>NaN</td>\n",
       "      <td>NaN</td>\n",
       "      <td>0</td>\n",
       "      <td>R6</td>\n",
       "      <td>PROPOSE RENOVATE EXISTING CLASS 'A' APARTMENT ...</td>\n",
       "    </tr>\n",
       "  </tbody>\n",
       "</table>\n",
       "</div>"
      ],
      "text/plain": [
       "           Job #    Borough House #          Street Name  Block  Lot    Bin #  \\\n",
       "19608  122923649  MANHATTAN     315     WEST 33RD STREET    757   22  1013552   \n",
       "19609  121090112  MANHATTAN     110         DUANE STREET    150   22  1001645   \n",
       "19610  102937342  MANHATTAN     166          BANK STREET    638    4  1078335   \n",
       "19611  200838558      BRONX    2762  KINGSBRIDGE TERRACE   3253   90  2015521   \n",
       "19612  301429158   BROOKLYN     802        HOWARD AVENUE   3565   42  3081797   \n",
       "\n",
       "      Job Type  Community - Board Curb Cut Fully Permitted Initial Cost  \\\n",
       "19608       A2                104      NaN      03/21/2017    $60000.00   \n",
       "19609       A2                101      NaN      07/17/2012    $40000.00   \n",
       "19610       A2                102      NaN      02/07/2001    $80000.00   \n",
       "19611       A2                208      NaN             NaN    $40000.00   \n",
       "19612       A2                316      NaN             NaN    $60000.00   \n",
       "\n",
       "       Proposed Zoning Sqft Horizontal Enlrgmt Vertical Enlrgmt  \\\n",
       "19608                     0                NaN              NaN   \n",
       "19609                     0                NaN              NaN   \n",
       "19610                     0                NaN              NaN   \n",
       "19611                     0                NaN              NaN   \n",
       "19612                     0                NaN              NaN   \n",
       "\n",
       "       Enlargement SQ Footage Zoning Dist1  \\\n",
       "19608                       0         C6-4   \n",
       "19609                       0        C6-2A   \n",
       "19610                       0         C6-2   \n",
       "19611                       0           R6   \n",
       "19612                       0           R6   \n",
       "\n",
       "                                         Job Description  \n",
       "19608  RENOVATION OF APARTMENTS 8N &amp; 12A. ARCHITE...  \n",
       "19609  APARTMENT RENVOATION AT APT #4R. DEMOLISH AND ...  \n",
       "19610  Interior renovation of an existing apartment. ...  \n",
       "19611  Proposed to renovate existing apartments. No c...  \n",
       "19612  PROPOSE RENOVATE EXISTING CLASS 'A' APARTMENT ...  "
      ]
     },
     "execution_count": 7,
     "metadata": {},
     "output_type": "execute_result"
    }
   ],
   "source": [
    "df.tail()"
   ]
  },
  {
   "cell_type": "code",
   "execution_count": 8,
   "id": "ce3806df-29ef-4633-800b-f940e5b7b826",
   "metadata": {},
   "outputs": [
    {
     "data": {
      "text/plain": [
       "Job #                      int64\n",
       "Borough                   object\n",
       "House #                   object\n",
       "Street Name               object\n",
       "Block                      int64\n",
       "Lot                        int64\n",
       "Bin #                      int64\n",
       "Job Type                  object\n",
       "Community - Board          int64\n",
       "Curb Cut                  object\n",
       "Fully Permitted           object\n",
       "Initial Cost              object\n",
       "Proposed Zoning Sqft       int64\n",
       "Horizontal Enlrgmt        object\n",
       "Vertical Enlrgmt          object\n",
       "Enlargement SQ Footage     int64\n",
       "Zoning Dist1              object\n",
       "Job Description           object\n",
       "dtype: object"
      ]
     },
     "execution_count": 8,
     "metadata": {},
     "output_type": "execute_result"
    }
   ],
   "source": [
    "df.dtypes"
   ]
  },
  {
   "cell_type": "code",
   "execution_count": 9,
   "id": "82471a81-a513-4076-b62e-fdfcdc2ab9e6",
   "metadata": {},
   "outputs": [],
   "source": [
    "df2=df.drop(columns=[\"Horizontal Enlrgmt\", \"Vertical Enlrgmt\", \"Enlargement SQ Footage\", \"Proposed Zoning Sqft\"])"
   ]
  },
  {
   "cell_type": "code",
   "execution_count": null,
   "id": "bada4bbd-ca10-4d90-839d-242eef89e48f",
   "metadata": {},
   "outputs": [],
   "source": []
  },
  {
   "cell_type": "code",
   "execution_count": 10,
   "id": "2406f982-0ecf-425e-a900-70e737c39b14",
   "metadata": {},
   "outputs": [
    {
     "data": {
      "text/plain": [
       "Job #                 int64\n",
       "Borough              object\n",
       "House #              object\n",
       "Street Name          object\n",
       "Block                 int64\n",
       "Lot                   int64\n",
       "Bin #                 int64\n",
       "Job Type             object\n",
       "Community - Board     int64\n",
       "Curb Cut             object\n",
       "Fully Permitted      object\n",
       "Initial Cost         object\n",
       "Zoning Dist1         object\n",
       "Job Description      object\n",
       "dtype: object"
      ]
     },
     "execution_count": 10,
     "metadata": {},
     "output_type": "execute_result"
    }
   ],
   "source": [
    "df2.dtypes"
   ]
  },
  {
   "cell_type": "code",
   "execution_count": 11,
   "id": "e7da1ea4-e032-4d13-be2e-d49988b82c21",
   "metadata": {},
   "outputs": [],
   "source": [
    "df2=df2.dropna()"
   ]
  },
  {
   "cell_type": "code",
   "execution_count": 12,
   "id": "0e72d5eb-b567-466a-a17b-f337f687e92a",
   "metadata": {},
   "outputs": [
    {
     "data": {
      "text/html": [
       "<div>\n",
       "<style scoped>\n",
       "    .dataframe tbody tr th:only-of-type {\n",
       "        vertical-align: middle;\n",
       "    }\n",
       "\n",
       "    .dataframe tbody tr th {\n",
       "        vertical-align: top;\n",
       "    }\n",
       "\n",
       "    .dataframe thead th {\n",
       "        text-align: right;\n",
       "    }\n",
       "</style>\n",
       "<table border=\"1\" class=\"dataframe\">\n",
       "  <thead>\n",
       "    <tr style=\"text-align: right;\">\n",
       "      <th></th>\n",
       "      <th>Job #</th>\n",
       "      <th>Borough</th>\n",
       "      <th>House #</th>\n",
       "      <th>Street Name</th>\n",
       "      <th>Block</th>\n",
       "      <th>Lot</th>\n",
       "      <th>Bin #</th>\n",
       "      <th>Job Type</th>\n",
       "      <th>Community - Board</th>\n",
       "      <th>Curb Cut</th>\n",
       "      <th>Fully Permitted</th>\n",
       "      <th>Initial Cost</th>\n",
       "      <th>Zoning Dist1</th>\n",
       "      <th>Job Description</th>\n",
       "    </tr>\n",
       "  </thead>\n",
       "  <tbody>\n",
       "    <tr>\n",
       "      <th>180</th>\n",
       "      <td>302376596</td>\n",
       "      <td>BROOKLYN</td>\n",
       "      <td>5118</td>\n",
       "      <td>14 AVENUE</td>\n",
       "      <td>5656</td>\n",
       "      <td>45</td>\n",
       "      <td>3138390</td>\n",
       "      <td>A1</td>\n",
       "      <td>312</td>\n",
       "      <td>X</td>\n",
       "      <td>01/13/2009</td>\n",
       "      <td>$40000.00</td>\n",
       "      <td>R6</td>\n",
       "      <td>FILING ALT TYPE 1 TO CONVERT 2 APARTMENT INTO ...</td>\n",
       "    </tr>\n",
       "    <tr>\n",
       "      <th>592</th>\n",
       "      <td>500777126</td>\n",
       "      <td>STATEN ISLAND</td>\n",
       "      <td>115</td>\n",
       "      <td>OSBORNE AVENUE</td>\n",
       "      <td>5273</td>\n",
       "      <td>65</td>\n",
       "      <td>5067489</td>\n",
       "      <td>A1</td>\n",
       "      <td>503</td>\n",
       "      <td>X</td>\n",
       "      <td>08/08/2005</td>\n",
       "      <td>$50000.00</td>\n",
       "      <td>R3A</td>\n",
       "      <td>APPLICATION BEING FILED TO ADD A SECOND FLOOR,...</td>\n",
       "    </tr>\n",
       "    <tr>\n",
       "      <th>2178</th>\n",
       "      <td>500777126</td>\n",
       "      <td>STATEN ISLAND</td>\n",
       "      <td>115</td>\n",
       "      <td>OSBORNE AVENUE</td>\n",
       "      <td>5273</td>\n",
       "      <td>65</td>\n",
       "      <td>5067489</td>\n",
       "      <td>A1</td>\n",
       "      <td>503</td>\n",
       "      <td>X</td>\n",
       "      <td>08/08/2005</td>\n",
       "      <td>$50000.00</td>\n",
       "      <td>R3A</td>\n",
       "      <td>APPLICATION BEING FILED TO ADD A SECOND FLOOR,...</td>\n",
       "    </tr>\n",
       "    <tr>\n",
       "      <th>2594</th>\n",
       "      <td>401732611</td>\n",
       "      <td>QUEENS</td>\n",
       "      <td>76-18</td>\n",
       "      <td>69 PLACE</td>\n",
       "      <td>3706</td>\n",
       "      <td>51</td>\n",
       "      <td>4530846</td>\n",
       "      <td>A1</td>\n",
       "      <td>405</td>\n",
       "      <td>X</td>\n",
       "      <td>12/19/2003</td>\n",
       "      <td>$480000.00</td>\n",
       "      <td>R5</td>\n",
       "      <td>GUT RENOVATION OF EXISTING MANUFACTURING BUILD...</td>\n",
       "    </tr>\n",
       "    <tr>\n",
       "      <th>4680</th>\n",
       "      <td>401732611</td>\n",
       "      <td>QUEENS</td>\n",
       "      <td>76-18</td>\n",
       "      <td>69 PLACE</td>\n",
       "      <td>3706</td>\n",
       "      <td>51</td>\n",
       "      <td>4530846</td>\n",
       "      <td>A1</td>\n",
       "      <td>405</td>\n",
       "      <td>X</td>\n",
       "      <td>12/19/2003</td>\n",
       "      <td>$480000.00</td>\n",
       "      <td>R5</td>\n",
       "      <td>GUT RENOVATION OF EXISTING MANUFACTURING BUILD...</td>\n",
       "    </tr>\n",
       "  </tbody>\n",
       "</table>\n",
       "</div>"
      ],
      "text/plain": [
       "          Job #        Borough House #     Street Name  Block  Lot    Bin #  \\\n",
       "180   302376596       BROOKLYN    5118       14 AVENUE   5656   45  3138390   \n",
       "592   500777126  STATEN ISLAND     115  OSBORNE AVENUE   5273   65  5067489   \n",
       "2178  500777126  STATEN ISLAND     115  OSBORNE AVENUE   5273   65  5067489   \n",
       "2594  401732611         QUEENS   76-18        69 PLACE   3706   51  4530846   \n",
       "4680  401732611         QUEENS   76-18        69 PLACE   3706   51  4530846   \n",
       "\n",
       "     Job Type  Community - Board Curb Cut Fully Permitted Initial Cost  \\\n",
       "180        A1                312        X      01/13/2009    $40000.00   \n",
       "592        A1                503        X      08/08/2005    $50000.00   \n",
       "2178       A1                503        X      08/08/2005    $50000.00   \n",
       "2594       A1                405        X      12/19/2003   $480000.00   \n",
       "4680       A1                405        X      12/19/2003   $480000.00   \n",
       "\n",
       "     Zoning Dist1                                    Job Description  \n",
       "180            R6  FILING ALT TYPE 1 TO CONVERT 2 APARTMENT INTO ...  \n",
       "592           R3A  APPLICATION BEING FILED TO ADD A SECOND FLOOR,...  \n",
       "2178          R3A  APPLICATION BEING FILED TO ADD A SECOND FLOOR,...  \n",
       "2594           R5  GUT RENOVATION OF EXISTING MANUFACTURING BUILD...  \n",
       "4680           R5  GUT RENOVATION OF EXISTING MANUFACTURING BUILD...  "
      ]
     },
     "execution_count": 12,
     "metadata": {},
     "output_type": "execute_result"
    }
   ],
   "source": [
    "df2.head()"
   ]
  },
  {
   "cell_type": "code",
   "execution_count": 13,
   "id": "8219e08f-adb2-4586-9990-1411fe053664",
   "metadata": {},
   "outputs": [],
   "source": [
    "df2=df2.drop(columns=[\"Zoning Dist1\", \"Curb Cut\"])"
   ]
  },
  {
   "cell_type": "code",
   "execution_count": 14,
   "id": "6d67b900-ca8b-4cc0-8924-b1c64fa8289f",
   "metadata": {},
   "outputs": [
    {
     "data": {
      "text/html": [
       "<div>\n",
       "<style scoped>\n",
       "    .dataframe tbody tr th:only-of-type {\n",
       "        vertical-align: middle;\n",
       "    }\n",
       "\n",
       "    .dataframe tbody tr th {\n",
       "        vertical-align: top;\n",
       "    }\n",
       "\n",
       "    .dataframe thead th {\n",
       "        text-align: right;\n",
       "    }\n",
       "</style>\n",
       "<table border=\"1\" class=\"dataframe\">\n",
       "  <thead>\n",
       "    <tr style=\"text-align: right;\">\n",
       "      <th></th>\n",
       "      <th>Job #</th>\n",
       "      <th>Borough</th>\n",
       "      <th>House #</th>\n",
       "      <th>Street Name</th>\n",
       "      <th>Block</th>\n",
       "      <th>Lot</th>\n",
       "      <th>Bin #</th>\n",
       "      <th>Job Type</th>\n",
       "      <th>Community - Board</th>\n",
       "      <th>Fully Permitted</th>\n",
       "      <th>Initial Cost</th>\n",
       "      <th>Job Description</th>\n",
       "    </tr>\n",
       "  </thead>\n",
       "  <tbody>\n",
       "    <tr>\n",
       "      <th>180</th>\n",
       "      <td>302376596</td>\n",
       "      <td>BROOKLYN</td>\n",
       "      <td>5118</td>\n",
       "      <td>14 AVENUE</td>\n",
       "      <td>5656</td>\n",
       "      <td>45</td>\n",
       "      <td>3138390</td>\n",
       "      <td>A1</td>\n",
       "      <td>312</td>\n",
       "      <td>01/13/2009</td>\n",
       "      <td>$40000.00</td>\n",
       "      <td>FILING ALT TYPE 1 TO CONVERT 2 APARTMENT INTO ...</td>\n",
       "    </tr>\n",
       "    <tr>\n",
       "      <th>592</th>\n",
       "      <td>500777126</td>\n",
       "      <td>STATEN ISLAND</td>\n",
       "      <td>115</td>\n",
       "      <td>OSBORNE AVENUE</td>\n",
       "      <td>5273</td>\n",
       "      <td>65</td>\n",
       "      <td>5067489</td>\n",
       "      <td>A1</td>\n",
       "      <td>503</td>\n",
       "      <td>08/08/2005</td>\n",
       "      <td>$50000.00</td>\n",
       "      <td>APPLICATION BEING FILED TO ADD A SECOND FLOOR,...</td>\n",
       "    </tr>\n",
       "    <tr>\n",
       "      <th>2178</th>\n",
       "      <td>500777126</td>\n",
       "      <td>STATEN ISLAND</td>\n",
       "      <td>115</td>\n",
       "      <td>OSBORNE AVENUE</td>\n",
       "      <td>5273</td>\n",
       "      <td>65</td>\n",
       "      <td>5067489</td>\n",
       "      <td>A1</td>\n",
       "      <td>503</td>\n",
       "      <td>08/08/2005</td>\n",
       "      <td>$50000.00</td>\n",
       "      <td>APPLICATION BEING FILED TO ADD A SECOND FLOOR,...</td>\n",
       "    </tr>\n",
       "    <tr>\n",
       "      <th>2594</th>\n",
       "      <td>401732611</td>\n",
       "      <td>QUEENS</td>\n",
       "      <td>76-18</td>\n",
       "      <td>69 PLACE</td>\n",
       "      <td>3706</td>\n",
       "      <td>51</td>\n",
       "      <td>4530846</td>\n",
       "      <td>A1</td>\n",
       "      <td>405</td>\n",
       "      <td>12/19/2003</td>\n",
       "      <td>$480000.00</td>\n",
       "      <td>GUT RENOVATION OF EXISTING MANUFACTURING BUILD...</td>\n",
       "    </tr>\n",
       "    <tr>\n",
       "      <th>4680</th>\n",
       "      <td>401732611</td>\n",
       "      <td>QUEENS</td>\n",
       "      <td>76-18</td>\n",
       "      <td>69 PLACE</td>\n",
       "      <td>3706</td>\n",
       "      <td>51</td>\n",
       "      <td>4530846</td>\n",
       "      <td>A1</td>\n",
       "      <td>405</td>\n",
       "      <td>12/19/2003</td>\n",
       "      <td>$480000.00</td>\n",
       "      <td>GUT RENOVATION OF EXISTING MANUFACTURING BUILD...</td>\n",
       "    </tr>\n",
       "  </tbody>\n",
       "</table>\n",
       "</div>"
      ],
      "text/plain": [
       "          Job #        Borough House #     Street Name  Block  Lot    Bin #  \\\n",
       "180   302376596       BROOKLYN    5118       14 AVENUE   5656   45  3138390   \n",
       "592   500777126  STATEN ISLAND     115  OSBORNE AVENUE   5273   65  5067489   \n",
       "2178  500777126  STATEN ISLAND     115  OSBORNE AVENUE   5273   65  5067489   \n",
       "2594  401732611         QUEENS   76-18        69 PLACE   3706   51  4530846   \n",
       "4680  401732611         QUEENS   76-18        69 PLACE   3706   51  4530846   \n",
       "\n",
       "     Job Type  Community - Board Fully Permitted Initial Cost  \\\n",
       "180        A1                312      01/13/2009    $40000.00   \n",
       "592        A1                503      08/08/2005    $50000.00   \n",
       "2178       A1                503      08/08/2005    $50000.00   \n",
       "2594       A1                405      12/19/2003   $480000.00   \n",
       "4680       A1                405      12/19/2003   $480000.00   \n",
       "\n",
       "                                        Job Description  \n",
       "180   FILING ALT TYPE 1 TO CONVERT 2 APARTMENT INTO ...  \n",
       "592   APPLICATION BEING FILED TO ADD A SECOND FLOOR,...  \n",
       "2178  APPLICATION BEING FILED TO ADD A SECOND FLOOR,...  \n",
       "2594  GUT RENOVATION OF EXISTING MANUFACTURING BUILD...  \n",
       "4680  GUT RENOVATION OF EXISTING MANUFACTURING BUILD...  "
      ]
     },
     "execution_count": 14,
     "metadata": {},
     "output_type": "execute_result"
    }
   ],
   "source": [
    "df2.head()"
   ]
  },
  {
   "cell_type": "code",
   "execution_count": 47,
   "id": "34334bd4-1386-43eb-9193-53afe530862e",
   "metadata": {},
   "outputs": [
    {
     "data": {
      "text/plain": [
       "Text(0.5, 1.0, 'Distribution of Apartment Initial Prices')"
      ]
     },
     "execution_count": 47,
     "metadata": {},
     "output_type": "execute_result"
    },
    {
     "data": {
      "image/png": "[encoded data removed]",
      "text/plain": [
       "<Figure size 640x480 with 1 Axes>"
      ]
     },
     "metadata": {},
     "output_type": "display_data"
    }
   ],
   "source": [
    "plt.hist(df2[\"Initial Cost\"])\n",
    "\n",
    "plt.xlabel(\"Price $\")\n",
    "plt.ylabel(\"Count\")\n",
    "\n",
    "plt.title(\"Distribution of Apartment Initial Prices\")"
   ]
  },
  {
   "cell_type": "code",
   "execution_count": 48,
   "id": "7e1bd005-d993-499b-aa4e-efd5f1fcd355",
   "metadata": {},
   "outputs": [
    {
     "data": {
      "text/plain": [
       "Text(0.5, 1.0, 'Distribution of Apartment Borough')"
      ]
     },
     "execution_count": 48,
     "metadata": {},
     "output_type": "execute_result"
    },
    {
     "data": {
      "image/png": "[encoded data removed]",
      "text/plain": [
       "<Figure size 640x480 with 1 Axes>"
      ]
     },
     "metadata": {},
     "output_type": "display_data"
    }
   ],
   "source": [
    "plt.hist(df2[\"Borough\"])\n",
    "\n",
    "plt.xlabel(\"Borough\")\n",
    "plt.ylabel(\"Count\")\n",
    "\n",
    "plt.title(\"Distribution of Apartment Borough\")"
   ]
  },
  {
   "cell_type": "code",
   "execution_count": 38,
   "id": "87d775ec-229c-44a2-88b7-e3f0a0d13cae",
   "metadata": {},
   "outputs": [
    {
     "data": {
      "application/vnd.plotly.v1+json": {
       "config": {
        "plotlyServerURL": "https://plot.ly"
       },
       "data": [
        {
         "alignmentgroup": "True",
         "hovertemplate": "Borough=%{x}<br>Initial Prices=%{y}<extra></extra>",
         "legendgroup": "BROOKLYN",
         "marker": {
          "color": "#636efa",
          "pattern": {
           "shape": ""
          }
         },
         "name": "BROOKLYN",
         "offsetgroup": "BROOKLYN",
         "orientation": "v",
         "showlegend": true,
         "textposition": "auto",
         "type": "bar",
         "x": [
          "BROOKLYN"
         ],
         "xaxis": "x",
         "y": [
          40000
         ],
         "yaxis": "y"
        },
        {
         "alignmentgroup": "True",
         "hovertemplate": "Borough=%{x}<br>Initial Prices=%{y}<extra></extra>",
         "legendgroup": "STATEN ISLAND",
         "marker": {
          "color": "#EF553B",
          "pattern": {
           "shape": ""
          }
         },
         "name": "STATEN ISLAND",
         "offsetgroup": "STATEN ISLAND",
         "orientation": "v",
         "showlegend": true,
         "textposition": "auto",
         "type": "bar",
         "x": [
          "STATEN ISLAND",
          "STATEN ISLAND",
          "STATEN ISLAND"
         ],
         "xaxis": "x",
         "y": [
          50000,
          50000,
          70000
         ],
         "yaxis": "y"
        },
        {
         "alignmentgroup": "True",
         "hovertemplate": "Borough=%{x}<br>Initial Prices=%{y}<extra></extra>",
         "legendgroup": "QUEENS",
         "marker": {
          "color": "#00cc96",
          "pattern": {
           "shape": ""
          }
         },
         "name": "QUEENS",
         "offsetgroup": "QUEENS",
         "orientation": "v",
         "showlegend": true,
         "textposition": "auto",
         "type": "bar",
         "x": [
          "QUEENS",
          "QUEENS"
         ],
         "xaxis": "x",
         "y": [
          480000,
          480000
         ],
         "yaxis": "y"
        }
       ],
       "layout": {
        "autosize": true,
        "barmode": "group",
        "legend": {
         "title": {
          "text": "Borough"
         },
         "tracegroupgap": 0
        },
        "template": {
         "data": {
          "bar": [
           {
            "error_x": {
             "color": "#2a3f5f"
            },
            "error_y": {
             "color": "#2a3f5f"
            },
            "marker": {
             "line": {
              "color": "#E5ECF6",
              "width": 0.5
             },
             "pattern": {
              "fillmode": "overlay",
              "size": 10,
              "solidity": 0.2
             }
            },
            "type": "bar"
           }
          ],
          "barpolar": [
           {
            "marker": {
             "line": {
              "color": "#E5ECF6",
              "width": 0.5
             },
             "pattern": {
              "fillmode": "overlay",
              "size": 10,
              "solidity": 0.2
             }
            },
            "type": "barpolar"
           }
          ],
          "carpet": [
           {
            "aaxis": {
             "endlinecolor": "#2a3f5f",
             "gridcolor": "white",
             "linecolor": "white",
             "minorgridcolor": "white",
             "startlinecolor": "#2a3f5f"
            },
            "baxis": {
             "endlinecolor": "#2a3f5f",
             "gridcolor": "white",
             "linecolor": "white",
             "minorgridcolor": "white",
             "startlinecolor": "#2a3f5f"
            },
            "type": "carpet"
           }
          ],
          "choropleth": [
           {
            "colorbar": {
             "outlinewidth": 0,
             "ticks": ""
            },
            "type": "choropleth"
           }
          ],
          "contour": [
           {
            "colorbar": {
             "outlinewidth": 0,
             "ticks": ""
            },
            "colorscale": [
             [
              0,
              "#0d0887"
             ],
             [
              0.1111111111111111,
              "#46039f"
             ],
             [
              0.2222222222222222,
              "#7201a8"
             ],
             [
              0.3333333333333333,
              "#9c179e"
             ],
             [
              0.4444444444444444,
              "#bd3786"
             ],
             [
              0.5555555555555556,
              "#d8576b"
             ],
             [
              0.6666666666666666,
              "#ed7953"
             ],
             [
              0.7777777777777778,
              "#fb9f3a"
             ],
             [
              0.8888888888888888,
              "#fdca26"
             ],
             [
              1,
              "#f0f921"
             ]
            ],
            "type": "contour"
           }
          ],
          "contourcarpet": [
           {
            "colorbar": {
             "outlinewidth": 0,
             "ticks": ""
            },
            "type": "contourcarpet"
           }
          ],
          "heatmap": [
           {
            "colorbar": {
             "outlinewidth": 0,
             "ticks": ""
            },
            "colorscale": [
             [
              0,
              "#0d0887"
             ],
             [
              0.1111111111111111,
              "#46039f"
             ],
             [
              0.2222222222222222,
              "#7201a8"
             ],
             [
              0.3333333333333333,
              "#9c179e"
             ],
             [
              0.4444444444444444,
              "#bd3786"
             ],
             [
              0.5555555555555556,
              "#d8576b"
             ],
             [
              0.6666666666666666,
              "#ed7953"
             ],
             [
              0.7777777777777778,
              "#fb9f3a"
             ],
             [
              0.8888888888888888,
              "#fdca26"
             ],
             [
              1,
              "#f0f921"
             ]
            ],
            "type": "heatmap"
           }
          ],
          "heatmapgl": [
           {
            "colorbar": {
             "outlinewidth": 0,
             "ticks": ""
            },
            "colorscale": [
             [
              0,
              "#0d0887"
             ],
             [
              0.1111111111111111,
              "#46039f"
             ],
             [
              0.2222222222222222,
              "#7201a8"
             ],
             [
              0.3333333333333333,
              "#9c179e"
             ],
             [
              0.4444444444444444,
              "#bd3786"
             ],
             [
              0.5555555555555556,
              "#d8576b"
             ],
             [
              0.6666666666666666,
              "#ed7953"
             ],
             [
              0.7777777777777778,
              "#fb9f3a"
             ],
             [
              0.8888888888888888,
              "#fdca26"
             ],
             [
              1,
              "#f0f921"
             ]
            ],
            "type": "heatmapgl"
           }
          ],
          "histogram": [
           {
            "marker": {
             "pattern": {
              "fillmode": "overlay",
              "size": 10,
              "solidity": 0.2
             }
            },
            "type": "histogram"
           }
          ],
          "histogram2d": [
           {
            "colorbar": {
             "outlinewidth": 0,
             "ticks": ""
            },
            "colorscale": [
             [
              0,
              "#0d0887"
             ],
             [
              0.1111111111111111,
              "#46039f"
             ],
             [
              0.2222222222222222,
              "#7201a8"
             ],
             [
              0.3333333333333333,
              "#9c179e"
             ],
             [
              0.4444444444444444,
              "#bd3786"
             ],
             [
              0.5555555555555556,
              "#d8576b"
             ],
             [
              0.6666666666666666,
              "#ed7953"
             ],
             [
              0.7777777777777778,
              "#fb9f3a"
             ],
             [
              0.8888888888888888,
              "#fdca26"
             ],
             [
              1,
              "#f0f921"
             ]
            ],
            "type": "histogram2d"
           }
          ],
          "histogram2dcontour": [
           {
            "colorbar": {
             "outlinewidth": 0,
             "ticks": ""
            },
            "colorscale": [
             [
              0,
              "#0d0887"
             ],
             [
              0.1111111111111111,
              "#46039f"
             ],
             [
              0.2222222222222222,
              "#7201a8"
             ],
             [
              0.3333333333333333,
              "#9c179e"
             ],
             [
              0.4444444444444444,
              "#bd3786"
             ],
             [
              0.5555555555555556,
              "#d8576b"
             ],
             [
              0.6666666666666666,
              "#ed7953"
             ],
             [
              0.7777777777777778,
              "#fb9f3a"
             ],
             [
              0.8888888888888888,
              "#fdca26"
             ],
             [
              1,
              "#f0f921"
             ]
            ],
            "type": "histogram2dcontour"
           }
          ],
          "mesh3d": [
           {
            "colorbar": {
             "outlinewidth": 0,
             "ticks": ""
            },
            "type": "mesh3d"
           }
          ],
          "parcoords": [
           {
            "line": {
             "colorbar": {
              "outlinewidth": 0,
              "ticks": ""
             }
            },
            "type": "parcoords"
           }
          ],
          "pie": [
           {
            "automargin": true,
            "type": "pie"
           }
          ],
          "scatter": [
           {
            "fillpattern": {
             "fillmode": "overlay",
             "size": 10,
             "solidity": 0.2
            },
            "type": "scatter"
           }
          ],
          "scatter3d": [
           {
            "line": {
             "colorbar": {
              "outlinewidth": 0,
              "ticks": ""
             }
            },
            "marker": {
             "colorbar": {
              "outlinewidth": 0,
              "ticks": ""
             }
            },
            "type": "scatter3d"
           }
          ],
          "scattercarpet": [
           {
            "marker": {
             "colorbar": {
              "outlinewidth": 0,
              "ticks": ""
             }
            },
            "type": "scattercarpet"
           }
          ],
          "scattergeo": [
           {
            "marker": {
             "colorbar": {
              "outlinewidth": 0,
              "ticks": ""
             }
            },
            "type": "scattergeo"
           }
          ],
          "scattergl": [
           {
            "marker": {
             "colorbar": {
              "outlinewidth": 0,
              "ticks": ""
             }
            },
            "type": "scattergl"
           }
          ],
          "scattermapbox": [
           {
            "marker": {
             "colorbar": {
              "outlinewidth": 0,
              "ticks": ""
             }
            },
            "type": "scattermapbox"
           }
          ],
          "scatterpolar": [
           {
            "marker": {
             "colorbar": {
              "outlinewidth": 0,
              "ticks": ""
             }
            },
            "type": "scatterpolar"
           }
          ],
          "scatterpolargl": [
           {
            "marker": {
             "colorbar": {
              "outlinewidth": 0,
              "ticks": ""
             }
            },
            "type": "scatterpolargl"
           }
          ],
          "scatterternary": [
           {
            "marker": {
             "colorbar": {
              "outlinewidth": 0,
              "ticks": ""
             }
            },
            "type": "scatterternary"
           }
          ],
          "surface": [
           {
            "colorbar": {
             "outlinewidth": 0,
             "ticks": ""
            },
            "colorscale": [
             [
              0,
              "#0d0887"
             ],
             [
              0.1111111111111111,
              "#46039f"
             ],
             [
              0.2222222222222222,
              "#7201a8"
             ],
             [
              0.3333333333333333,
              "#9c179e"
             ],
             [
              0.4444444444444444,
              "#bd3786"
             ],
             [
              0.5555555555555556,
              "#d8576b"
             ],
             [
              0.6666666666666666,
              "#ed7953"
             ],
             [
              0.7777777777777778,
              "#fb9f3a"
             ],
             [
              0.8888888888888888,
              "#fdca26"
             ],
             [
              1,
              "#f0f921"
             ]
            ],
            "type": "surface"
           }
          ],
          "table": [
           {
            "cells": {
             "fill": {
              "color": "#EBF0F8"
             },
             "line": {
              "color": "white"
             }
            },
            "header": {
             "fill": {
              "color": "#C8D4E3"
             },
             "line": {
              "color": "white"
             }
            },
            "type": "table"
           }
          ]
         },
         "layout": {
          "annotationdefaults": {
           "arrowcolor": "#2a3f5f",
           "arrowhead": 0,
           "arrowwidth": 1
          },
          "autotypenumbers": "strict",
          "coloraxis": {
           "colorbar": {
            "outlinewidth": 0,
            "ticks": ""
           }
          },
          "colorscale": {
           "diverging": [
            [
             0,
             "#8e0152"
            ],
            [
             0.1,
             "#c51b7d"
            ],
            [
             0.2,
             "#de77ae"
            ],
            [
             0.3,
             "#f1b6da"
            ],
            [
             0.4,
             "#fde0ef"
            ],
            [
             0.5,
             "#f7f7f7"
            ],
            [
             0.6,
             "#e6f5d0"
            ],
            [
             0.7,
             "#b8e186"
            ],
            [
             0.8,
             "#7fbc41"
            ],
            [
             0.9,
             "#4d9221"
            ],
            [
             1,
             "#276419"
            ]
           ],
           "sequential": [
            [
             0,
             "#0d0887"
            ],
            [
             0.1111111111111111,
             "#46039f"
            ],
            [
             0.2222222222222222,
             "#7201a8"
            ],
            [
             0.3333333333333333,
             "#9c179e"
            ],
            [
             0.4444444444444444,
             "#bd3786"
            ],
            [
             0.5555555555555556,
             "#d8576b"
            ],
            [
             0.6666666666666666,
             "#ed7953"
            ],
            [
             0.7777777777777778,
             "#fb9f3a"
            ],
            [
             0.8888888888888888,
             "#fdca26"
            ],
            [
             1,
             "#f0f921"
            ]
           ],
           "sequentialminus": [
            [
             0,
             "#0d0887"
            ],
            [
             0.1111111111111111,
             "#46039f"
            ],
            [
             0.2222222222222222,
             "#7201a8"
            ],
            [
             0.3333333333333333,
             "#9c179e"
            ],
            [
             0.4444444444444444,
             "#bd3786"
            ],
            [
             0.5555555555555556,
             "#d8576b"
            ],
            [
             0.6666666666666666,
             "#ed7953"
            ],
            [
             0.7777777777777778,
             "#fb9f3a"
            ],
            [
             0.8888888888888888,
             "#fdca26"
            ],
            [
             1,
             "#f0f921"
            ]
           ]
          },
          "colorway": [
           "#636efa",
           "#EF553B",
           "#00cc96",
           "#ab63fa",
           "#FFA15A",
           "#19d3f3",
           "#FF6692",
           "#B6E880",
           "#FF97FF",
           "#FECB52"
          ],
          "font": {
           "color": "#2a3f5f"
          },
          "geo": {
           "bgcolor": "white",
           "lakecolor": "white",
           "landcolor": "#E5ECF6",
           "showlakes": true,
           "showland": true,
           "subunitcolor": "white"
          },
          "hoverlabel": {
           "align": "left"
          },
          "hovermode": "closest",
          "mapbox": {
           "style": "light"
          },
          "paper_bgcolor": "white",
          "plot_bgcolor": "#E5ECF6",
          "polar": {
           "angularaxis": {
            "gridcolor": "white",
            "linecolor": "white",
            "ticks": ""
           },
           "bgcolor": "#E5ECF6",
           "radialaxis": {
            "gridcolor": "white",
            "linecolor": "white",
            "ticks": ""
           }
          },
          "scene": {
           "xaxis": {
            "backgroundcolor": "#E5ECF6",
            "gridcolor": "white",
            "gridwidth": 2,
            "linecolor": "white",
            "showbackground": true,
            "ticks": "",
            "zerolinecolor": "white"
           },
           "yaxis": {
            "backgroundcolor": "#E5ECF6",
            "gridcolor": "white",
            "gridwidth": 2,
            "linecolor": "white",
            "showbackground": true,
            "ticks": "",
            "zerolinecolor": "white"
           },
           "zaxis": {
            "backgroundcolor": "#E5ECF6",
            "gridcolor": "white",
            "gridwidth": 2,
            "linecolor": "white",
            "showbackground": true,
            "ticks": "",
            "zerolinecolor": "white"
           }
          },
          "shapedefaults": {
           "line": {
            "color": "#2a3f5f"
           }
          },
          "ternary": {
           "aaxis": {
            "gridcolor": "white",
            "linecolor": "white",
            "ticks": ""
           },
           "baxis": {
            "gridcolor": "white",
            "linecolor": "white",
            "ticks": ""
           },
           "bgcolor": "#E5ECF6",
           "caxis": {
            "gridcolor": "white",
            "linecolor": "white",
            "ticks": ""
           }
          },
          "title": {
           "x": 0.05
          },
          "xaxis": {
           "automargin": true,
           "gridcolor": "white",
           "linecolor": "white",
           "ticks": "",
           "title": {
            "standoff": 15
           },
           "zerolinecolor": "white",
           "zerolinewidth": 2
          },
          "yaxis": {
           "automargin": true,
           "gridcolor": "white",
           "linecolor": "white",
           "ticks": "",
           "title": {
            "standoff": 15
           },
           "zerolinecolor": "white",
           "zerolinewidth": 2
          }
         }
        },
        "title": {
         "text": "Initial Prices by Borough"
        },
        "xaxis": {
         "anchor": "y",
         "autorange": true,
         "categoryarray": [
          "BROOKLYN",
          "STATEN ISLAND",
          "QUEENS"
         ],
         "categoryorder": "array",
         "domain": [
          0,
          1
         ],
         "range": [
          -0.5,
          2.5
         ],
         "title": {
          "text": "Borough"
         },
         "type": "category"
        },
        "yaxis": {
         "anchor": "x",
         "autorange": true,
         "domain": [
          0,
          1
         ],
         "range": [
          0,
          1010526.3157894737
         ],
         "title": {
          "text": "Initial Prices"
         },
         "type": "linear"
        }
       }
      },
      "image/png": "[encoded data removed]",
      "text/html": [
       "<div>                            <div id=\"7aaa884e-2295-40dd-814a-d92a2e823314\" class=\"plotly-graph-div\" style=\"height:525px; width:100%;\"></div>            <script type=\"text/javascript\">                require([\"plotly\"], function(Plotly) {                    window.PLOTLYENV=window.PLOTLYENV || {};                                    if (document.getElementById(\"7aaa884e-2295-40dd-814a-d92a2e823314\")) {                    Plotly.newPlot(                        \"7aaa884e-2295-40dd-814a-d92a2e823314\",                        [{\"alignmentgroup\":\"True\",\"hovertemplate\":\"Borough=%{x}\\u003cbr\\u003eInitial Prices=%{y}\\u003cextra\\u003e\\u003c\\u002fextra\\u003e\",\"legendgroup\":\"BROOKLYN\",\"marker\":{\"color\":\"#636efa\",\"pattern\":{\"shape\":\"\"}},\"name\":\"BROOKLYN\",\"offsetgroup\":\"BROOKLYN\",\"orientation\":\"v\",\"showlegend\":true,\"textposition\":\"auto\",\"x\":[\"BROOKLYN\"],\"xaxis\":\"x\",\"y\":[40000.0],\"yaxis\":\"y\",\"type\":\"bar\"},{\"alignmentgroup\":\"True\",\"hovertemplate\":\"Borough=%{x}\\u003cbr\\u003eInitial Prices=%{y}\\u003cextra\\u003e\\u003c\\u002fextra\\u003e\",\"legendgroup\":\"STATEN ISLAND\",\"marker\":{\"color\":\"#EF553B\",\"pattern\":{\"shape\":\"\"}},\"name\":\"STATEN ISLAND\",\"offsetgroup\":\"STATEN ISLAND\",\"orientation\":\"v\",\"showlegend\":true,\"textposition\":\"auto\",\"x\":[\"STATEN ISLAND\",\"STATEN ISLAND\",\"STATEN ISLAND\"],\"xaxis\":\"x\",\"y\":[50000.0,50000.0,70000.0],\"yaxis\":\"y\",\"type\":\"bar\"},{\"alignmentgroup\":\"True\",\"hovertemplate\":\"Borough=%{x}\\u003cbr\\u003eInitial Prices=%{y}\\u003cextra\\u003e\\u003c\\u002fextra\\u003e\",\"legendgroup\":\"QUEENS\",\"marker\":{\"color\":\"#00cc96\",\"pattern\":{\"shape\":\"\"}},\"name\":\"QUEENS\",\"offsetgroup\":\"QUEENS\",\"orientation\":\"v\",\"showlegend\":true,\"textposition\":\"auto\",\"x\":[\"QUEENS\",\"QUEENS\"],\"xaxis\":\"x\",\"y\":[480000.0,480000.0],\"yaxis\":\"y\",\"type\":\"bar\"}],                        {\"template\":{\"data\":{\"histogram2dcontour\":[{\"type\":\"histogram2dcontour\",\"colorbar\":{\"outlinewidth\":0,\"ticks\":\"\"},\"colorscale\":[[0.0,\"#0d0887\"],[0.1111111111111111,\"#46039f\"],[0.2222222222222222,\"#7201a8\"],[0.3333333333333333,\"#9c179e\"],[0.4444444444444444,\"#bd3786\"],[0.5555555555555556,\"#d8576b\"],[0.6666666666666666,\"#ed7953\"],[0.7777777777777778,\"#fb9f3a\"],[0.8888888888888888,\"#fdca26\"],[1.0,\"#f0f921\"]]}],\"choropleth\":[{\"type\":\"choropleth\",\"colorbar\":{\"outlinewidth\":0,\"ticks\":\"\"}}],\"histogram2d\":[{\"type\":\"histogram2d\",\"colorbar\":{\"outlinewidth\":0,\"ticks\":\"\"},\"colorscale\":[[0.0,\"#0d0887\"],[0.1111111111111111,\"#46039f\"],[0.2222222222222222,\"#7201a8\"],[0.3333333333333333,\"#9c179e\"],[0.4444444444444444,\"#bd3786\"],[0.5555555555555556,\"#d8576b\"],[0.6666666666666666,\"#ed7953\"],[0.7777777777777778,\"#fb9f3a\"],[0.8888888888888888,\"#fdca26\"],[1.0,\"#f0f921\"]]}],\"heatmap\":[{\"type\":\"heatmap\",\"colorbar\":{\"outlinewidth\":0,\"ticks\":\"\"},\"colorscale\":[[0.0,\"#0d0887\"],[0.1111111111111111,\"#46039f\"],[0.2222222222222222,\"#7201a8\"],[0.3333333333333333,\"#9c179e\"],[0.4444444444444444,\"#bd3786\"],[0.5555555555555556,\"#d8576b\"],[0.6666666666666666,\"#ed7953\"],[0.7777777777777778,\"#fb9f3a\"],[0.8888888888888888,\"#fdca26\"],[1.0,\"#f0f921\"]]}],\"heatmapgl\":[{\"type\":\"heatmapgl\",\"colorbar\":{\"outlinewidth\":0,\"ticks\":\"\"},\"colorscale\":[[0.0,\"#0d0887\"],[0.1111111111111111,\"#46039f\"],[0.2222222222222222,\"#7201a8\"],[0.3333333333333333,\"#9c179e\"],[0.4444444444444444,\"#bd3786\"],[0.5555555555555556,\"#d8576b\"],[0.6666666666666666,\"#ed7953\"],[0.7777777777777778,\"#fb9f3a\"],[0.8888888888888888,\"#fdca26\"],[1.0,\"#f0f921\"]]}],\"contourcarpet\":[{\"type\":\"contourcarpet\",\"colorbar\":{\"outlinewidth\":0,\"ticks\":\"\"}}],\"contour\":[{\"type\":\"contour\",\"colorbar\":{\"outlinewidth\":0,\"ticks\":\"\"},\"colorscale\":[[0.0,\"#0d0887\"],[0.1111111111111111,\"#46039f\"],[0.2222222222222222,\"#7201a8\"],[0.3333333333333333,\"#9c179e\"],[0.4444444444444444,\"#bd3786\"],[0.5555555555555556,\"#d8576b\"],[0.6666666666666666,\"#ed7953\"],[0.7777777777777778,\"#fb9f3a\"],[0.8888888888888888,\"#fdca26\"],[1.0,\"#f0f921\"]]}],\"surface\":[{\"type\":\"surface\",\"colorbar\":{\"outlinewidth\":0,\"ticks\":\"\"},\"colorscale\":[[0.0,\"#0d0887\"],[0.1111111111111111,\"#46039f\"],[0.2222222222222222,\"#7201a8\"],[0.3333333333333333,\"#9c179e\"],[0.4444444444444444,\"#bd3786\"],[0.5555555555555556,\"#d8576b\"],[0.6666666666666666,\"#ed7953\"],[0.7777777777777778,\"#fb9f3a\"],[0.8888888888888888,\"#fdca26\"],[1.0,\"#f0f921\"]]}],\"mesh3d\":[{\"type\":\"mesh3d\",\"colorbar\":{\"outlinewidth\":0,\"ticks\":\"\"}}],\"scatter\":[{\"fillpattern\":{\"fillmode\":\"overlay\",\"size\":10,\"solidity\":0.2},\"type\":\"scatter\"}],\"parcoords\":[{\"type\":\"parcoords\",\"line\":{\"colorbar\":{\"outlinewidth\":0,\"ticks\":\"\"}}}],\"scatterpolargl\":[{\"type\":\"scatterpolargl\",\"marker\":{\"colorbar\":{\"outlinewidth\":0,\"ticks\":\"\"}}}],\"bar\":[{\"error_x\":{\"color\":\"#2a3f5f\"},\"error_y\":{\"color\":\"#2a3f5f\"},\"marker\":{\"line\":{\"color\":\"#E5ECF6\",\"width\":0.5},\"pattern\":{\"fillmode\":\"overlay\",\"size\":10,\"solidity\":0.2}},\"type\":\"bar\"}],\"scattergeo\":[{\"type\":\"scattergeo\",\"marker\":{\"colorbar\":{\"outlinewidth\":0,\"ticks\":\"\"}}}],\"scatterpolar\":[{\"type\":\"scatterpolar\",\"marker\":{\"colorbar\":{\"outlinewidth\":0,\"ticks\":\"\"}}}],\"histogram\":[{\"marker\":{\"pattern\":{\"fillmode\":\"overlay\",\"size\":10,\"solidity\":0.2}},\"type\":\"histogram\"}],\"scattergl\":[{\"type\":\"scattergl\",\"marker\":{\"colorbar\":{\"outlinewidth\":0,\"ticks\":\"\"}}}],\"scatter3d\":[{\"type\":\"scatter3d\",\"line\":{\"colorbar\":{\"outlinewidth\":0,\"ticks\":\"\"}},\"marker\":{\"colorbar\":{\"outlinewidth\":0,\"ticks\":\"\"}}}],\"scattermapbox\":[{\"type\":\"scattermapbox\",\"marker\":{\"colorbar\":{\"outlinewidth\":0,\"ticks\":\"\"}}}],\"scatterternary\":[{\"type\":\"scatterternary\",\"marker\":{\"colorbar\":{\"outlinewidth\":0,\"ticks\":\"\"}}}],\"scattercarpet\":[{\"type\":\"scattercarpet\",\"marker\":{\"colorbar\":{\"outlinewidth\":0,\"ticks\":\"\"}}}],\"carpet\":[{\"aaxis\":{\"endlinecolor\":\"#2a3f5f\",\"gridcolor\":\"white\",\"linecolor\":\"white\",\"minorgridcolor\":\"white\",\"startlinecolor\":\"#2a3f5f\"},\"baxis\":{\"endlinecolor\":\"#2a3f5f\",\"gridcolor\":\"white\",\"linecolor\":\"white\",\"minorgridcolor\":\"white\",\"startlinecolor\":\"#2a3f5f\"},\"type\":\"carpet\"}],\"table\":[{\"cells\":{\"fill\":{\"color\":\"#EBF0F8\"},\"line\":{\"color\":\"white\"}},\"header\":{\"fill\":{\"color\":\"#C8D4E3\"},\"line\":{\"color\":\"white\"}},\"type\":\"table\"}],\"barpolar\":[{\"marker\":{\"line\":{\"color\":\"#E5ECF6\",\"width\":0.5},\"pattern\":{\"fillmode\":\"overlay\",\"size\":10,\"solidity\":0.2}},\"type\":\"barpolar\"}],\"pie\":[{\"automargin\":true,\"type\":\"pie\"}]},\"layout\":{\"autotypenumbers\":\"strict\",\"colorway\":[\"#636efa\",\"#EF553B\",\"#00cc96\",\"#ab63fa\",\"#FFA15A\",\"#19d3f3\",\"#FF6692\",\"#B6E880\",\"#FF97FF\",\"#FECB52\"],\"font\":{\"color\":\"#2a3f5f\"},\"hovermode\":\"closest\",\"hoverlabel\":{\"align\":\"left\"},\"paper_bgcolor\":\"white\",\"plot_bgcolor\":\"#E5ECF6\",\"polar\":{\"bgcolor\":\"#E5ECF6\",\"angularaxis\":{\"gridcolor\":\"white\",\"linecolor\":\"white\",\"ticks\":\"\"},\"radialaxis\":{\"gridcolor\":\"white\",\"linecolor\":\"white\",\"ticks\":\"\"}},\"ternary\":{\"bgcolor\":\"#E5ECF6\",\"aaxis\":{\"gridcolor\":\"white\",\"linecolor\":\"white\",\"ticks\":\"\"},\"baxis\":{\"gridcolor\":\"white\",\"linecolor\":\"white\",\"ticks\":\"\"},\"caxis\":{\"gridcolor\":\"white\",\"linecolor\":\"white\",\"ticks\":\"\"}},\"coloraxis\":{\"colorbar\":{\"outlinewidth\":0,\"ticks\":\"\"}},\"colorscale\":{\"sequential\":[[0.0,\"#0d0887\"],[0.1111111111111111,\"#46039f\"],[0.2222222222222222,\"#7201a8\"],[0.3333333333333333,\"#9c179e\"],[0.4444444444444444,\"#bd3786\"],[0.5555555555555556,\"#d8576b\"],[0.6666666666666666,\"#ed7953\"],[0.7777777777777778,\"#fb9f3a\"],[0.8888888888888888,\"#fdca26\"],[1.0,\"#f0f921\"]],\"sequentialminus\":[[0.0,\"#0d0887\"],[0.1111111111111111,\"#46039f\"],[0.2222222222222222,\"#7201a8\"],[0.3333333333333333,\"#9c179e\"],[0.4444444444444444,\"#bd3786\"],[0.5555555555555556,\"#d8576b\"],[0.6666666666666666,\"#ed7953\"],[0.7777777777777778,\"#fb9f3a\"],[0.8888888888888888,\"#fdca26\"],[1.0,\"#f0f921\"]],\"diverging\":[[0,\"#8e0152\"],[0.1,\"#c51b7d\"],[0.2,\"#de77ae\"],[0.3,\"#f1b6da\"],[0.4,\"#fde0ef\"],[0.5,\"#f7f7f7\"],[0.6,\"#e6f5d0\"],[0.7,\"#b8e186\"],[0.8,\"#7fbc41\"],[0.9,\"#4d9221\"],[1,\"#276419\"]]},\"xaxis\":{\"gridcolor\":\"white\",\"linecolor\":\"white\",\"ticks\":\"\",\"title\":{\"standoff\":15},\"zerolinecolor\":\"white\",\"automargin\":true,\"zerolinewidth\":2},\"yaxis\":{\"gridcolor\":\"white\",\"linecolor\":\"white\",\"ticks\":\"\",\"title\":{\"standoff\":15},\"zerolinecolor\":\"white\",\"automargin\":true,\"zerolinewidth\":2},\"scene\":{\"xaxis\":{\"backgroundcolor\":\"#E5ECF6\",\"gridcolor\":\"white\",\"linecolor\":\"white\",\"showbackground\":true,\"ticks\":\"\",\"zerolinecolor\":\"white\",\"gridwidth\":2},\"yaxis\":{\"backgroundcolor\":\"#E5ECF6\",\"gridcolor\":\"white\",\"linecolor\":\"white\",\"showbackground\":true,\"ticks\":\"\",\"zerolinecolor\":\"white\",\"gridwidth\":2},\"zaxis\":{\"backgroundcolor\":\"#E5ECF6\",\"gridcolor\":\"white\",\"linecolor\":\"white\",\"showbackground\":true,\"ticks\":\"\",\"zerolinecolor\":\"white\",\"gridwidth\":2}},\"shapedefaults\":{\"line\":{\"color\":\"#2a3f5f\"}},\"annotationdefaults\":{\"arrowcolor\":\"#2a3f5f\",\"arrowhead\":0,\"arrowwidth\":1},\"geo\":{\"bgcolor\":\"white\",\"landcolor\":\"#E5ECF6\",\"subunitcolor\":\"white\",\"showland\":true,\"showlakes\":true,\"lakecolor\":\"white\"},\"title\":{\"x\":0.05},\"mapbox\":{\"style\":\"light\"}}},\"xaxis\":{\"anchor\":\"y\",\"domain\":[0.0,1.0],\"title\":{\"text\":\"Borough\"},\"categoryorder\":\"array\",\"categoryarray\":[\"BROOKLYN\",\"STATEN ISLAND\",\"QUEENS\"]},\"yaxis\":{\"anchor\":\"x\",\"domain\":[0.0,1.0],\"title\":{\"text\":\"Initial Prices\"}},\"legend\":{\"title\":{\"text\":\"Borough\"},\"tracegroupgap\":0},\"title\":{\"text\":\"Initial Prices by Borough\"},\"barmode\":\"group\"},                        {\"responsive\": true}                    ).then(function(){\n",
       "                            \n",
       "var gd = document.getElementById('7aaa884e-2295-40dd-814a-d92a2e823314');\n",
       "var x = new MutationObserver(function (mutations, observer) {{\n",
       "        var display = window.getComputedStyle(gd).display;\n",
       "        if (!display || display === 'none') {{\n",
       "            console.log([gd, 'removed!']);\n",
       "            Plotly.purge(gd);\n",
       "            observer.disconnect();\n",
       "        }}\n",
       "}});\n",
       "\n",
       "// Listen for the removal of the full notebook cells\n",
       "var notebookContainer = gd.closest('#notebook-container');\n",
       "if (notebookContainer) {{\n",
       "    x.observe(notebookContainer, {childList: true});\n",
       "}}\n",
       "\n",
       "// Listen for the clearing of the current output cell\n",
       "var outputEl = gd.closest('.output');\n",
       "if (outputEl) {{\n",
       "    x.observe(outputEl, {childList: true});\n",
       "}}\n",
       "\n",
       "                        })                };                });            </script>        </div>"
      ]
     },
     "metadata": {},
     "output_type": "display_data"
    }
   ],
   "source": [
    "fig = px.bar(\n",
    "    df2,\n",
    "    x=\"Borough\",\n",
    "    y=\"Initial Cost\",\n",
    "    title=\"Initial Prices by Borough\",\n",
    "    labels={\"Initial Cost\": \"Initial Prices\", \"Borough\": \"Borough\"},\n",
    "    color=\"Borough\",  # Optional: Adds color by Borough\n",
    "    barmode=\"group\",  # Can be adjusted for stacked/grouped bars\n",
    ")\n",
    "fig.show()"
   ]
  },
  {
   "cell_type": "code",
   "execution_count": 18,
   "id": "9bd31184-9ff9-4f6c-97f3-eaaad4efa912",
   "metadata": {},
   "outputs": [],
   "source": [
    "df2['Fully Permitted'] = pd.to_datetime(df2['Fully Permitted'])"
   ]
  },
  {
   "cell_type": "code",
   "execution_count": 19,
   "id": "e450a96a-ac57-4284-a884-68263bc71e28",
   "metadata": {},
   "outputs": [
    {
     "name": "stderr",
     "output_type": "stream",
     "text": [
      "<>:1: SyntaxWarning:\n",
      "\n",
      "invalid escape sequence '\\$'\n",
      "\n",
      "<>:1: SyntaxWarning:\n",
      "\n",
      "invalid escape sequence '\\$'\n",
      "\n",
      "C:\\Users\\HP\\AppData\\Local\\Temp\\ipykernel_19496\\3707131125.py:1: SyntaxWarning:\n",
      "\n",
      "invalid escape sequence '\\$'\n",
      "\n"
     ]
    }
   ],
   "source": [
    "df2['Initial Cost'] = df2['Initial Cost'].replace('[\\$,]', '', regex=True).astype(float)"
   ]
  },
  {
   "cell_type": "code",
   "execution_count": 20,
   "id": "ceaa8955-e700-40ea-a484-8dc1b35c2895",
   "metadata": {},
   "outputs": [],
   "source": [
    "df2['Year'] = df2['Fully Permitted'].dt.year\n",
    "df2['Month'] = df2['Fully Permitted'].dt.to_period('M')"
   ]
  },
  {
   "cell_type": "code",
   "execution_count": 21,
   "id": "158010ac-2b56-49e9-a6b2-a09ba499aee5",
   "metadata": {},
   "outputs": [
    {
     "data": {
      "text/html": [
       "<div>\n",
       "<style scoped>\n",
       "    .dataframe tbody tr th:only-of-type {\n",
       "        vertical-align: middle;\n",
       "    }\n",
       "\n",
       "    .dataframe tbody tr th {\n",
       "        vertical-align: top;\n",
       "    }\n",
       "\n",
       "    .dataframe thead th {\n",
       "        text-align: right;\n",
       "    }\n",
       "</style>\n",
       "<table border=\"1\" class=\"dataframe\">\n",
       "  <thead>\n",
       "    <tr style=\"text-align: right;\">\n",
       "      <th></th>\n",
       "      <th>Job #</th>\n",
       "      <th>Borough</th>\n",
       "      <th>House #</th>\n",
       "      <th>Street Name</th>\n",
       "      <th>Block</th>\n",
       "      <th>Lot</th>\n",
       "      <th>Bin #</th>\n",
       "      <th>Job Type</th>\n",
       "      <th>Community - Board</th>\n",
       "      <th>Fully Permitted</th>\n",
       "      <th>Initial Cost</th>\n",
       "      <th>Job Description</th>\n",
       "      <th>Year</th>\n",
       "      <th>Month</th>\n",
       "    </tr>\n",
       "  </thead>\n",
       "  <tbody>\n",
       "    <tr>\n",
       "      <th>180</th>\n",
       "      <td>302376596</td>\n",
       "      <td>BROOKLYN</td>\n",
       "      <td>5118</td>\n",
       "      <td>14 AVENUE</td>\n",
       "      <td>5656</td>\n",
       "      <td>45</td>\n",
       "      <td>3138390</td>\n",
       "      <td>A1</td>\n",
       "      <td>312</td>\n",
       "      <td>2009-01-13</td>\n",
       "      <td>40000.0</td>\n",
       "      <td>FILING ALT TYPE 1 TO CONVERT 2 APARTMENT INTO ...</td>\n",
       "      <td>2009</td>\n",
       "      <td>2009-01</td>\n",
       "    </tr>\n",
       "    <tr>\n",
       "      <th>592</th>\n",
       "      <td>500777126</td>\n",
       "      <td>STATEN ISLAND</td>\n",
       "      <td>115</td>\n",
       "      <td>OSBORNE AVENUE</td>\n",
       "      <td>5273</td>\n",
       "      <td>65</td>\n",
       "      <td>5067489</td>\n",
       "      <td>A1</td>\n",
       "      <td>503</td>\n",
       "      <td>2005-08-08</td>\n",
       "      <td>50000.0</td>\n",
       "      <td>APPLICATION BEING FILED TO ADD A SECOND FLOOR,...</td>\n",
       "      <td>2005</td>\n",
       "      <td>2005-08</td>\n",
       "    </tr>\n",
       "    <tr>\n",
       "      <th>2178</th>\n",
       "      <td>500777126</td>\n",
       "      <td>STATEN ISLAND</td>\n",
       "      <td>115</td>\n",
       "      <td>OSBORNE AVENUE</td>\n",
       "      <td>5273</td>\n",
       "      <td>65</td>\n",
       "      <td>5067489</td>\n",
       "      <td>A1</td>\n",
       "      <td>503</td>\n",
       "      <td>2005-08-08</td>\n",
       "      <td>50000.0</td>\n",
       "      <td>APPLICATION BEING FILED TO ADD A SECOND FLOOR,...</td>\n",
       "      <td>2005</td>\n",
       "      <td>2005-08</td>\n",
       "    </tr>\n",
       "    <tr>\n",
       "      <th>2594</th>\n",
       "      <td>401732611</td>\n",
       "      <td>QUEENS</td>\n",
       "      <td>76-18</td>\n",
       "      <td>69 PLACE</td>\n",
       "      <td>3706</td>\n",
       "      <td>51</td>\n",
       "      <td>4530846</td>\n",
       "      <td>A1</td>\n",
       "      <td>405</td>\n",
       "      <td>2003-12-19</td>\n",
       "      <td>480000.0</td>\n",
       "      <td>GUT RENOVATION OF EXISTING MANUFACTURING BUILD...</td>\n",
       "      <td>2003</td>\n",
       "      <td>2003-12</td>\n",
       "    </tr>\n",
       "    <tr>\n",
       "      <th>4680</th>\n",
       "      <td>401732611</td>\n",
       "      <td>QUEENS</td>\n",
       "      <td>76-18</td>\n",
       "      <td>69 PLACE</td>\n",
       "      <td>3706</td>\n",
       "      <td>51</td>\n",
       "      <td>4530846</td>\n",
       "      <td>A1</td>\n",
       "      <td>405</td>\n",
       "      <td>2003-12-19</td>\n",
       "      <td>480000.0</td>\n",
       "      <td>GUT RENOVATION OF EXISTING MANUFACTURING BUILD...</td>\n",
       "      <td>2003</td>\n",
       "      <td>2003-12</td>\n",
       "    </tr>\n",
       "  </tbody>\n",
       "</table>\n",
       "</div>"
      ],
      "text/plain": [
       "          Job #        Borough House #     Street Name  Block  Lot    Bin #  \\\n",
       "180   302376596       BROOKLYN    5118       14 AVENUE   5656   45  3138390   \n",
       "592   500777126  STATEN ISLAND     115  OSBORNE AVENUE   5273   65  5067489   \n",
       "2178  500777126  STATEN ISLAND     115  OSBORNE AVENUE   5273   65  5067489   \n",
       "2594  401732611         QUEENS   76-18        69 PLACE   3706   51  4530846   \n",
       "4680  401732611         QUEENS   76-18        69 PLACE   3706   51  4530846   \n",
       "\n",
       "     Job Type  Community - Board Fully Permitted  Initial Cost  \\\n",
       "180        A1                312      2009-01-13       40000.0   \n",
       "592        A1                503      2005-08-08       50000.0   \n",
       "2178       A1                503      2005-08-08       50000.0   \n",
       "2594       A1                405      2003-12-19      480000.0   \n",
       "4680       A1                405      2003-12-19      480000.0   \n",
       "\n",
       "                                        Job Description  Year    Month  \n",
       "180   FILING ALT TYPE 1 TO CONVERT 2 APARTMENT INTO ...  2009  2009-01  \n",
       "592   APPLICATION BEING FILED TO ADD A SECOND FLOOR,...  2005  2005-08  \n",
       "2178  APPLICATION BEING FILED TO ADD A SECOND FLOOR,...  2005  2005-08  \n",
       "2594  GUT RENOVATION OF EXISTING MANUFACTURING BUILD...  2003  2003-12  \n",
       "4680  GUT RENOVATION OF EXISTING MANUFACTURING BUILD...  2003  2003-12  "
      ]
     },
     "execution_count": 21,
     "metadata": {},
     "output_type": "execute_result"
    }
   ],
   "source": [
    "df2.head()"
   ]
  },
  {
   "cell_type": "code",
   "execution_count": 22,
   "id": "bcb19b50-f184-487e-87d9-6032a0724797",
   "metadata": {},
   "outputs": [
    {
     "data": {
      "text/plain": [
       "Text(0.5, 1.0, 'Initial cost vs Borough')"
      ]
     },
     "execution_count": 22,
     "metadata": {},
     "output_type": "execute_result"
    },
    {
     "data": {
      "image/png": "[encoded data removed]",
      "text/plain": [
       "<Figure size 640x480 with 1 Axes>"
      ]
     },
     "metadata": {},
     "output_type": "display_data"
    }
   ],
   "source": [
    "plt.scatter(x=df2[\"Borough\"], y=df2[\"Initial Cost\"])\n",
    "plt.xlabel(\"borough\")\n",
    "plt.ylabel(\"Initial Cost\")\n",
    "plt.title(\"Initial cost vs Borough\")"
   ]
  },
  {
   "cell_type": "code",
   "execution_count": 23,
   "id": "7b8624ce-4807-47f3-b244-7324afabb241",
   "metadata": {},
   "outputs": [
    {
     "data": {
      "text/html": [
       "<div>\n",
       "<style scoped>\n",
       "    .dataframe tbody tr th:only-of-type {\n",
       "        vertical-align: middle;\n",
       "    }\n",
       "\n",
       "    .dataframe tbody tr th {\n",
       "        vertical-align: top;\n",
       "    }\n",
       "\n",
       "    .dataframe thead th {\n",
       "        text-align: right;\n",
       "    }\n",
       "</style>\n",
       "<table border=\"1\" class=\"dataframe\">\n",
       "  <thead>\n",
       "    <tr style=\"text-align: right;\">\n",
       "      <th></th>\n",
       "      <th>Job #</th>\n",
       "      <th>Borough</th>\n",
       "      <th>House #</th>\n",
       "      <th>Street Name</th>\n",
       "      <th>Block</th>\n",
       "      <th>Lot</th>\n",
       "      <th>Bin #</th>\n",
       "      <th>Job Type</th>\n",
       "      <th>Community - Board</th>\n",
       "      <th>Fully Permitted</th>\n",
       "      <th>Initial Cost</th>\n",
       "      <th>Job Description</th>\n",
       "      <th>Year</th>\n",
       "      <th>Month</th>\n",
       "    </tr>\n",
       "  </thead>\n",
       "  <tbody>\n",
       "    <tr>\n",
       "      <th>180</th>\n",
       "      <td>302376596</td>\n",
       "      <td>BROOKLYN</td>\n",
       "      <td>5118</td>\n",
       "      <td>14 AVENUE</td>\n",
       "      <td>5656</td>\n",
       "      <td>45</td>\n",
       "      <td>3138390</td>\n",
       "      <td>A1</td>\n",
       "      <td>312</td>\n",
       "      <td>2009-01-13</td>\n",
       "      <td>40000.0</td>\n",
       "      <td>FILING ALT TYPE 1 TO CONVERT 2 APARTMENT INTO ...</td>\n",
       "      <td>2009</td>\n",
       "      <td>2009-01</td>\n",
       "    </tr>\n",
       "    <tr>\n",
       "      <th>592</th>\n",
       "      <td>500777126</td>\n",
       "      <td>STATEN ISLAND</td>\n",
       "      <td>115</td>\n",
       "      <td>OSBORNE AVENUE</td>\n",
       "      <td>5273</td>\n",
       "      <td>65</td>\n",
       "      <td>5067489</td>\n",
       "      <td>A1</td>\n",
       "      <td>503</td>\n",
       "      <td>2005-08-08</td>\n",
       "      <td>50000.0</td>\n",
       "      <td>APPLICATION BEING FILED TO ADD A SECOND FLOOR,...</td>\n",
       "      <td>2005</td>\n",
       "      <td>2005-08</td>\n",
       "    </tr>\n",
       "    <tr>\n",
       "      <th>2178</th>\n",
       "      <td>500777126</td>\n",
       "      <td>STATEN ISLAND</td>\n",
       "      <td>115</td>\n",
       "      <td>OSBORNE AVENUE</td>\n",
       "      <td>5273</td>\n",
       "      <td>65</td>\n",
       "      <td>5067489</td>\n",
       "      <td>A1</td>\n",
       "      <td>503</td>\n",
       "      <td>2005-08-08</td>\n",
       "      <td>50000.0</td>\n",
       "      <td>APPLICATION BEING FILED TO ADD A SECOND FLOOR,...</td>\n",
       "      <td>2005</td>\n",
       "      <td>2005-08</td>\n",
       "    </tr>\n",
       "    <tr>\n",
       "      <th>2594</th>\n",
       "      <td>401732611</td>\n",
       "      <td>QUEENS</td>\n",
       "      <td>76-18</td>\n",
       "      <td>69 PLACE</td>\n",
       "      <td>3706</td>\n",
       "      <td>51</td>\n",
       "      <td>4530846</td>\n",
       "      <td>A1</td>\n",
       "      <td>405</td>\n",
       "      <td>2003-12-19</td>\n",
       "      <td>480000.0</td>\n",
       "      <td>GUT RENOVATION OF EXISTING MANUFACTURING BUILD...</td>\n",
       "      <td>2003</td>\n",
       "      <td>2003-12</td>\n",
       "    </tr>\n",
       "    <tr>\n",
       "      <th>4680</th>\n",
       "      <td>401732611</td>\n",
       "      <td>QUEENS</td>\n",
       "      <td>76-18</td>\n",
       "      <td>69 PLACE</td>\n",
       "      <td>3706</td>\n",
       "      <td>51</td>\n",
       "      <td>4530846</td>\n",
       "      <td>A1</td>\n",
       "      <td>405</td>\n",
       "      <td>2003-12-19</td>\n",
       "      <td>480000.0</td>\n",
       "      <td>GUT RENOVATION OF EXISTING MANUFACTURING BUILD...</td>\n",
       "      <td>2003</td>\n",
       "      <td>2003-12</td>\n",
       "    </tr>\n",
       "  </tbody>\n",
       "</table>\n",
       "</div>"
      ],
      "text/plain": [
       "          Job #        Borough House #     Street Name  Block  Lot    Bin #  \\\n",
       "180   302376596       BROOKLYN    5118       14 AVENUE   5656   45  3138390   \n",
       "592   500777126  STATEN ISLAND     115  OSBORNE AVENUE   5273   65  5067489   \n",
       "2178  500777126  STATEN ISLAND     115  OSBORNE AVENUE   5273   65  5067489   \n",
       "2594  401732611         QUEENS   76-18        69 PLACE   3706   51  4530846   \n",
       "4680  401732611         QUEENS   76-18        69 PLACE   3706   51  4530846   \n",
       "\n",
       "     Job Type  Community - Board Fully Permitted  Initial Cost  \\\n",
       "180        A1                312      2009-01-13       40000.0   \n",
       "592        A1                503      2005-08-08       50000.0   \n",
       "2178       A1                503      2005-08-08       50000.0   \n",
       "2594       A1                405      2003-12-19      480000.0   \n",
       "4680       A1                405      2003-12-19      480000.0   \n",
       "\n",
       "                                        Job Description  Year    Month  \n",
       "180   FILING ALT TYPE 1 TO CONVERT 2 APARTMENT INTO ...  2009  2009-01  \n",
       "592   APPLICATION BEING FILED TO ADD A SECOND FLOOR,...  2005  2005-08  \n",
       "2178  APPLICATION BEING FILED TO ADD A SECOND FLOOR,...  2005  2005-08  \n",
       "2594  GUT RENOVATION OF EXISTING MANUFACTURING BUILD...  2003  2003-12  \n",
       "4680  GUT RENOVATION OF EXISTING MANUFACTURING BUILD...  2003  2003-12  "
      ]
     },
     "execution_count": 23,
     "metadata": {},
     "output_type": "execute_result"
    }
   ],
   "source": [
    "df2.head()"
   ]
  },
  {
   "cell_type": "code",
   "execution_count": null,
   "id": "addb8845-2dd8-4109-a606-4cb08d31ccd6",
   "metadata": {},
   "outputs": [],
   "source": []
  },
  {
   "cell_type": "code",
   "execution_count": 39,
   "id": "d439056c-3058-4341-81c7-a158ba0f013b",
   "metadata": {},
   "outputs": [],
   "source": [
    "features = [\"Borough\", \"Job Type\"]\n",
    "X_train =df2[features]\n",
    "target =\"Initial Cost\"\n",
    "y_train = df2[target]"
   ]
  },
  {
   "cell_type": "code",
   "execution_count": 46,
   "id": "2af33666-e4c6-45c1-9e03-ed98bb98bcc8",
   "metadata": {},
   "outputs": [
    {
     "data": {
      "text/plain": [
       "<bound method IndexOpsMixin.nunique of 180          BROOKLYN\n",
       "592     STATEN ISLAND\n",
       "2178    STATEN ISLAND\n",
       "2594           QUEENS\n",
       "4680           QUEENS\n",
       "8714    STATEN ISLAND\n",
       "Name: Borough, dtype: object>"
      ]
     },
     "execution_count": 46,
     "metadata": {},
     "output_type": "execute_result"
    }
   ],
   "source": [
    "df2[\"Borough\"].nunique"
   ]
  },
  {
   "cell_type": "code",
   "execution_count": 25,
   "id": "9feb0255-b8db-479c-a594-ed32bb94cfb6",
   "metadata": {},
   "outputs": [
    {
     "name": "stdout",
     "output_type": "stream",
     "text": [
      "Mean InitialCost: 195000.0\n",
      "Baseline MAE: 190000.0\n"
     ]
    }
   ],
   "source": [
    "y_mean = y_train.mean()\n",
    "y_pred_baseline = [y_mean]* len(y_train)\n",
    "baseline_mae = mean_absolute_error(y_train, y_pred_baseline)\n",
    "print(\"Mean InitialCost:\", y_mean)\n",
    "print(\"Baseline MAE:\", baseline_mae)"
   ]
  },
  {
   "cell_type": "code",
   "execution_count": 26,
   "id": "8caa21b2-c1a7-4a3f-9a37-16f5c25ce8a0",
   "metadata": {},
   "outputs": [
    {
     "data": {
      "text/html": [
       "<style>#sk-container-id-1 {\n",
       "  /* Definition of color scheme common for light and dark mode */\n",
       "  --sklearn-color-text: black;\n",
       "  --sklearn-color-line: gray;\n",
       "  /* Definition of color scheme for unfitted estimators */\n",
       "  --sklearn-color-unfitted-level-0: #fff5e6;\n",
       "  --sklearn-color-unfitted-level-1: #f6e4d2;\n",
       "  --sklearn-color-unfitted-level-2: #ffe0b3;\n",
       "  --sklearn-color-unfitted-level-3: chocolate;\n",
       "  /* Definition of color scheme for fitted estimators */\n",
       "  --sklearn-color-fitted-level-0: #f0f8ff;\n",
       "  --sklearn-color-fitted-level-1: #d4ebff;\n",
       "  --sklearn-color-fitted-level-2: #b3dbfd;\n",
       "  --sklearn-color-fitted-level-3: cornflowerblue;\n",
       "\n",
       "  /* Specific color for light theme */\n",
       "  --sklearn-color-text-on-default-background: var(--sg-text-color, var(--theme-code-foreground, var(--jp-content-font-color1, black)));\n",
       "  --sklearn-color-background: var(--sg-background-color, var(--theme-background, var(--jp-layout-color0, white)));\n",
       "  --sklearn-color-border-box: var(--sg-text-color, var(--theme-code-foreground, var(--jp-content-font-color1, black)));\n",
       "  --sklearn-color-icon: #696969;\n",
       "\n",
       "  @media (prefers-color-scheme: dark) {\n",
       "    /* Redefinition of color scheme for dark theme */\n",
       "    --sklearn-color-text-on-default-background: var(--sg-text-color, var(--theme-code-foreground, var(--jp-content-font-color1, white)));\n",
       "    --sklearn-color-background: var(--sg-background-color, var(--theme-background, var(--jp-layout-color0, #111)));\n",
       "    --sklearn-color-border-box: var(--sg-text-color, var(--theme-code-foreground, var(--jp-content-font-color1, white)));\n",
       "    --sklearn-color-icon: #878787;\n",
       "  }\n",
       "}\n",
       "\n",
       "#sk-container-id-1 {\n",
       "  color: var(--sklearn-color-text);\n",
       "}\n",
       "\n",
       "#sk-container-id-1 pre {\n",
       "  padding: 0;\n",
       "}\n",
       "\n",
       "#sk-container-id-1 input.sk-hidden--visually {\n",
       "  border: 0;\n",
       "  clip: rect(1px 1px 1px 1px);\n",
       "  clip: rect(1px, 1px, 1px, 1px);\n",
       "  height: 1px;\n",
       "  margin: -1px;\n",
       "  overflow: hidden;\n",
       "  padding: 0;\n",
       "  position: absolute;\n",
       "  width: 1px;\n",
       "}\n",
       "\n",
       "#sk-container-id-1 div.sk-dashed-wrapped {\n",
       "  border: 1px dashed var(--sklearn-color-line);\n",
       "  margin: 0 0.4em 0.5em 0.4em;\n",
       "  box-sizing: border-box;\n",
       "  padding-bottom: 0.4em;\n",
       "  background-color: var(--sklearn-color-background);\n",
       "}\n",
       "\n",
       "#sk-container-id-1 div.sk-container {\n",
       "  /* jupyter's `normalize.less` sets `[hidden] { display: none; }`\n",
       "     but bootstrap.min.css set `[hidden] { display: none !important; }`\n",
       "     so we also need the `!important` here to be able to override the\n",
       "     default hidden behavior on the sphinx rendered scikit-learn.org.\n",
       "     See: https://github.com/scikit-learn/scikit-learn/issues/21755 */\n",
       "  display: inline-block !important;\n",
       "  position: relative;\n",
       "}\n",
       "\n",
       "#sk-container-id-1 div.sk-text-repr-fallback {\n",
       "  display: none;\n",
       "}\n",
       "\n",
       "div.sk-parallel-item,\n",
       "div.sk-serial,\n",
       "div.sk-item {\n",
       "  /* draw centered vertical line to link estimators */\n",
       "  background-image: linear-gradient(var(--sklearn-color-text-on-default-background), var(--sklearn-color-text-on-default-background));\n",
       "  background-size: 2px 100%;\n",
       "  background-repeat: no-repeat;\n",
       "  background-position: center center;\n",
       "}\n",
       "\n",
       "/* Parallel-specific style estimator block */\n",
       "\n",
       "#sk-container-id-1 div.sk-parallel-item::after {\n",
       "  content: \"\";\n",
       "  width: 100%;\n",
       "  border-bottom: 2px solid var(--sklearn-color-text-on-default-background);\n",
       "  flex-grow: 1;\n",
       "}\n",
       "\n",
       "#sk-container-id-1 div.sk-parallel {\n",
       "  display: flex;\n",
       "  align-items: stretch;\n",
       "  justify-content: center;\n",
       "  background-color: var(--sklearn-color-background);\n",
       "  position: relative;\n",
       "}\n",
       "\n",
       "#sk-container-id-1 div.sk-parallel-item {\n",
       "  display: flex;\n",
       "  flex-direction: column;\n",
       "}\n",
       "\n",
       "#sk-container-id-1 div.sk-parallel-item:first-child::after {\n",
       "  align-self: flex-end;\n",
       "  width: 50%;\n",
       "}\n",
       "\n",
       "#sk-container-id-1 div.sk-parallel-item:last-child::after {\n",
       "  align-self: flex-start;\n",
       "  width: 50%;\n",
       "}\n",
       "\n",
       "#sk-container-id-1 div.sk-parallel-item:only-child::after {\n",
       "  width: 0;\n",
       "}\n",
       "\n",
       "/* Serial-specific style estimator block */\n",
       "\n",
       "#sk-container-id-1 div.sk-serial {\n",
       "  display: flex;\n",
       "  flex-direction: column;\n",
       "  align-items: center;\n",
       "  background-color: var(--sklearn-color-background);\n",
       "  padding-right: 1em;\n",
       "  padding-left: 1em;\n",
       "}\n",
       "\n",
       "\n",
       "/* Toggleable style: style used for estimator/Pipeline/ColumnTransformer box that is\n",
       "clickable and can be expanded/collapsed.\n",
       "- Pipeline and ColumnTransformer use this feature and define the default style\n",
       "- Estimators will overwrite some part of the style using the `sk-estimator` class\n",
       "*/\n",
       "\n",
       "/* Pipeline and ColumnTransformer style (default) */\n",
       "\n",
       "#sk-container-id-1 div.sk-toggleable {\n",
       "  /* Default theme specific background. It is overwritten whether we have a\n",
       "  specific estimator or a Pipeline/ColumnTransformer */\n",
       "  background-color: var(--sklearn-color-background);\n",
       "}\n",
       "\n",
       "/* Toggleable label */\n",
       "#sk-container-id-1 label.sk-toggleable__label {\n",
       "  cursor: pointer;\n",
       "  display: block;\n",
       "  width: 100%;\n",
       "  margin-bottom: 0;\n",
       "  padding: 0.5em;\n",
       "  box-sizing: border-box;\n",
       "  text-align: center;\n",
       "}\n",
       "\n",
       "#sk-container-id-1 label.sk-toggleable__label-arrow:before {\n",
       "  /* Arrow on the left of the label */\n",
       "  content: \"▸\";\n",
       "  float: left;\n",
       "  margin-right: 0.25em;\n",
       "  color: var(--sklearn-color-icon);\n",
       "}\n",
       "\n",
       "#sk-container-id-1 label.sk-toggleable__label-arrow:hover:before {\n",
       "  color: var(--sklearn-color-text);\n",
       "}\n",
       "\n",
       "/* Toggleable content - dropdown */\n",
       "\n",
       "#sk-container-id-1 div.sk-toggleable__content {\n",
       "  max-height: 0;\n",
       "  max-width: 0;\n",
       "  overflow: hidden;\n",
       "  text-align: left;\n",
       "  /* unfitted */\n",
       "  background-color: var(--sklearn-color-unfitted-level-0);\n",
       "}\n",
       "\n",
       "#sk-container-id-1 div.sk-toggleable__content.fitted {\n",
       "  /* fitted */\n",
       "  background-color: var(--sklearn-color-fitted-level-0);\n",
       "}\n",
       "\n",
       "#sk-container-id-1 div.sk-toggleable__content pre {\n",
       "  margin: 0.2em;\n",
       "  border-radius: 0.25em;\n",
       "  color: var(--sklearn-color-text);\n",
       "  /* unfitted */\n",
       "  background-color: var(--sklearn-color-unfitted-level-0);\n",
       "}\n",
       "\n",
       "#sk-container-id-1 div.sk-toggleable__content.fitted pre {\n",
       "  /* unfitted */\n",
       "  background-color: var(--sklearn-color-fitted-level-0);\n",
       "}\n",
       "\n",
       "#sk-container-id-1 input.sk-toggleable__control:checked~div.sk-toggleable__content {\n",
       "  /* Expand drop-down */\n",
       "  max-height: 200px;\n",
       "  max-width: 100%;\n",
       "  overflow: auto;\n",
       "}\n",
       "\n",
       "#sk-container-id-1 input.sk-toggleable__control:checked~label.sk-toggleable__label-arrow:before {\n",
       "  content: \"▾\";\n",
       "}\n",
       "\n",
       "/* Pipeline/ColumnTransformer-specific style */\n",
       "\n",
       "#sk-container-id-1 div.sk-label input.sk-toggleable__control:checked~label.sk-toggleable__label {\n",
       "  color: var(--sklearn-color-text);\n",
       "  background-color: var(--sklearn-color-unfitted-level-2);\n",
       "}\n",
       "\n",
       "#sk-container-id-1 div.sk-label.fitted input.sk-toggleable__control:checked~label.sk-toggleable__label {\n",
       "  background-color: var(--sklearn-color-fitted-level-2);\n",
       "}\n",
       "\n",
       "/* Estimator-specific style */\n",
       "\n",
       "/* Colorize estimator box */\n",
       "#sk-container-id-1 div.sk-estimator input.sk-toggleable__control:checked~label.sk-toggleable__label {\n",
       "  /* unfitted */\n",
       "  background-color: var(--sklearn-color-unfitted-level-2);\n",
       "}\n",
       "\n",
       "#sk-container-id-1 div.sk-estimator.fitted input.sk-toggleable__control:checked~label.sk-toggleable__label {\n",
       "  /* fitted */\n",
       "  background-color: var(--sklearn-color-fitted-level-2);\n",
       "}\n",
       "\n",
       "#sk-container-id-1 div.sk-label label.sk-toggleable__label,\n",
       "#sk-container-id-1 div.sk-label label {\n",
       "  /* The background is the default theme color */\n",
       "  color: var(--sklearn-color-text-on-default-background);\n",
       "}\n",
       "\n",
       "/* On hover, darken the color of the background */\n",
       "#sk-container-id-1 div.sk-label:hover label.sk-toggleable__label {\n",
       "  color: var(--sklearn-color-text);\n",
       "  background-color: var(--sklearn-color-unfitted-level-2);\n",
       "}\n",
       "\n",
       "/* Label box, darken color on hover, fitted */\n",
       "#sk-container-id-1 div.sk-label.fitted:hover label.sk-toggleable__label.fitted {\n",
       "  color: var(--sklearn-color-text);\n",
       "  background-color: var(--sklearn-color-fitted-level-2);\n",
       "}\n",
       "\n",
       "/* Estimator label */\n",
       "\n",
       "#sk-container-id-1 div.sk-label label {\n",
       "  font-family: monospace;\n",
       "  font-weight: bold;\n",
       "  display: inline-block;\n",
       "  line-height: 1.2em;\n",
       "}\n",
       "\n",
       "#sk-container-id-1 div.sk-label-container {\n",
       "  text-align: center;\n",
       "}\n",
       "\n",
       "/* Estimator-specific */\n",
       "#sk-container-id-1 div.sk-estimator {\n",
       "  font-family: monospace;\n",
       "  border: 1px dotted var(--sklearn-color-border-box);\n",
       "  border-radius: 0.25em;\n",
       "  box-sizing: border-box;\n",
       "  margin-bottom: 0.5em;\n",
       "  /* unfitted */\n",
       "  background-color: var(--sklearn-color-unfitted-level-0);\n",
       "}\n",
       "\n",
       "#sk-container-id-1 div.sk-estimator.fitted {\n",
       "  /* fitted */\n",
       "  background-color: var(--sklearn-color-fitted-level-0);\n",
       "}\n",
       "\n",
       "/* on hover */\n",
       "#sk-container-id-1 div.sk-estimator:hover {\n",
       "  /* unfitted */\n",
       "  background-color: var(--sklearn-color-unfitted-level-2);\n",
       "}\n",
       "\n",
       "#sk-container-id-1 div.sk-estimator.fitted:hover {\n",
       "  /* fitted */\n",
       "  background-color: var(--sklearn-color-fitted-level-2);\n",
       "}\n",
       "\n",
       "/* Specification for estimator info (e.g. \"i\" and \"?\") */\n",
       "\n",
       "/* Common style for \"i\" and \"?\" */\n",
       "\n",
       ".sk-estimator-doc-link,\n",
       "a:link.sk-estimator-doc-link,\n",
       "a:visited.sk-estimator-doc-link {\n",
       "  float: right;\n",
       "  font-size: smaller;\n",
       "  line-height: 1em;\n",
       "  font-family: monospace;\n",
       "  background-color: var(--sklearn-color-background);\n",
       "  border-radius: 1em;\n",
       "  height: 1em;\n",
       "  width: 1em;\n",
       "  text-decoration: none !important;\n",
       "  margin-left: 1ex;\n",
       "  /* unfitted */\n",
       "  border: var(--sklearn-color-unfitted-level-1) 1pt solid;\n",
       "  color: var(--sklearn-color-unfitted-level-1);\n",
       "}\n",
       "\n",
       ".sk-estimator-doc-link.fitted,\n",
       "a:link.sk-estimator-doc-link.fitted,\n",
       "a:visited.sk-estimator-doc-link.fitted {\n",
       "  /* fitted */\n",
       "  border: var(--sklearn-color-fitted-level-1) 1pt solid;\n",
       "  color: var(--sklearn-color-fitted-level-1);\n",
       "}\n",
       "\n",
       "/* On hover */\n",
       "div.sk-estimator:hover .sk-estimator-doc-link:hover,\n",
       ".sk-estimator-doc-link:hover,\n",
       "div.sk-label-container:hover .sk-estimator-doc-link:hover,\n",
       ".sk-estimator-doc-link:hover {\n",
       "  /* unfitted */\n",
       "  background-color: var(--sklearn-color-unfitted-level-3);\n",
       "  color: var(--sklearn-color-background);\n",
       "  text-decoration: none;\n",
       "}\n",
       "\n",
       "div.sk-estimator.fitted:hover .sk-estimator-doc-link.fitted:hover,\n",
       ".sk-estimator-doc-link.fitted:hover,\n",
       "div.sk-label-container:hover .sk-estimator-doc-link.fitted:hover,\n",
       ".sk-estimator-doc-link.fitted:hover {\n",
       "  /* fitted */\n",
       "  background-color: var(--sklearn-color-fitted-level-3);\n",
       "  color: var(--sklearn-color-background);\n",
       "  text-decoration: none;\n",
       "}\n",
       "\n",
       "/* Span, style for the box shown on hovering the info icon */\n",
       ".sk-estimator-doc-link span {\n",
       "  display: none;\n",
       "  z-index: 9999;\n",
       "  position: relative;\n",
       "  font-weight: normal;\n",
       "  right: .2ex;\n",
       "  padding: .5ex;\n",
       "  margin: .5ex;\n",
       "  width: min-content;\n",
       "  min-width: 20ex;\n",
       "  max-width: 50ex;\n",
       "  color: var(--sklearn-color-text);\n",
       "  box-shadow: 2pt 2pt 4pt #999;\n",
       "  /* unfitted */\n",
       "  background: var(--sklearn-color-unfitted-level-0);\n",
       "  border: .5pt solid var(--sklearn-color-unfitted-level-3);\n",
       "}\n",
       "\n",
       ".sk-estimator-doc-link.fitted span {\n",
       "  /* fitted */\n",
       "  background: var(--sklearn-color-fitted-level-0);\n",
       "  border: var(--sklearn-color-fitted-level-3);\n",
       "}\n",
       "\n",
       ".sk-estimator-doc-link:hover span {\n",
       "  display: block;\n",
       "}\n",
       "\n",
       "/* \"?\"-specific style due to the `<a>` HTML tag */\n",
       "\n",
       "#sk-container-id-1 a.estimator_doc_link {\n",
       "  float: right;\n",
       "  font-size: 1rem;\n",
       "  line-height: 1em;\n",
       "  font-family: monospace;\n",
       "  background-color: var(--sklearn-color-background);\n",
       "  border-radius: 1rem;\n",
       "  height: 1rem;\n",
       "  width: 1rem;\n",
       "  text-decoration: none;\n",
       "  /* unfitted */\n",
       "  color: var(--sklearn-color-unfitted-level-1);\n",
       "  border: var(--sklearn-color-unfitted-level-1) 1pt solid;\n",
       "}\n",
       "\n",
       "#sk-container-id-1 a.estimator_doc_link.fitted {\n",
       "  /* fitted */\n",
       "  border: var(--sklearn-color-fitted-level-1) 1pt solid;\n",
       "  color: var(--sklearn-color-fitted-level-1);\n",
       "}\n",
       "\n",
       "/* On hover */\n",
       "#sk-container-id-1 a.estimator_doc_link:hover {\n",
       "  /* unfitted */\n",
       "  background-color: var(--sklearn-color-unfitted-level-3);\n",
       "  color: var(--sklearn-color-background);\n",
       "  text-decoration: none;\n",
       "}\n",
       "\n",
       "#sk-container-id-1 a.estimator_doc_link.fitted:hover {\n",
       "  /* fitted */\n",
       "  background-color: var(--sklearn-color-fitted-level-3);\n",
       "}\n",
       "</style><div id=\"sk-container-id-1\" class=\"sk-top-container\"><div class=\"sk-text-repr-fallback\"><pre>Pipeline(steps=[(&#x27;onehotencoder&#x27;,\n",
       "                 OneHotEncoder(cols=[&#x27;Borough&#x27;, &#x27;Job Type&#x27;],\n",
       "                               use_cat_names=True)),\n",
       "                (&#x27;simpleimputer&#x27;, SimpleImputer()), (&#x27;ridge&#x27;, Ridge())])</pre><b>In a Jupyter environment, please rerun this cell to show the HTML representation or trust the notebook. <br />On GitHub, the HTML representation is unable to render, please try loading this page with nbviewer.org.</b></div><div class=\"sk-container\" hidden><div class=\"sk-item sk-dashed-wrapped\"><div class=\"sk-label-container\"><div class=\"sk-label fitted sk-toggleable\"><input class=\"sk-toggleable__control sk-hidden--visually\" id=\"sk-estimator-id-1\" type=\"checkbox\" ><label for=\"sk-estimator-id-1\" class=\"sk-toggleable__label fitted sk-toggleable__label-arrow fitted\">&nbsp;&nbsp;Pipeline<a class=\"sk-estimator-doc-link fitted\" rel=\"noreferrer\" target=\"_blank\" href=\"https://scikit-learn.org/1.5/modules/generated/sklearn.pipeline.Pipeline.html\">?<span>Documentation for Pipeline</span></a><span class=\"sk-estimator-doc-link fitted\">i<span>Fitted</span></span></label><div class=\"sk-toggleable__content fitted\"><pre>Pipeline(steps=[(&#x27;onehotencoder&#x27;,\n",
       "                 OneHotEncoder(cols=[&#x27;Borough&#x27;, &#x27;Job Type&#x27;],\n",
       "                               use_cat_names=True)),\n",
       "                (&#x27;simpleimputer&#x27;, SimpleImputer()), (&#x27;ridge&#x27;, Ridge())])</pre></div> </div></div><div class=\"sk-serial\"><div class=\"sk-item\"><div class=\"sk-estimator fitted sk-toggleable\"><input class=\"sk-toggleable__control sk-hidden--visually\" id=\"sk-estimator-id-2\" type=\"checkbox\" ><label for=\"sk-estimator-id-2\" class=\"sk-toggleable__label fitted sk-toggleable__label-arrow fitted\">OneHotEncoder</label><div class=\"sk-toggleable__content fitted\"><pre>OneHotEncoder(cols=[&#x27;Borough&#x27;, &#x27;Job Type&#x27;], use_cat_names=True)</pre></div> </div></div><div class=\"sk-item\"><div class=\"sk-estimator fitted sk-toggleable\"><input class=\"sk-toggleable__control sk-hidden--visually\" id=\"sk-estimator-id-3\" type=\"checkbox\" ><label for=\"sk-estimator-id-3\" class=\"sk-toggleable__label fitted sk-toggleable__label-arrow fitted\">&nbsp;SimpleImputer<a class=\"sk-estimator-doc-link fitted\" rel=\"noreferrer\" target=\"_blank\" href=\"https://scikit-learn.org/1.5/modules/generated/sklearn.impute.SimpleImputer.html\">?<span>Documentation for SimpleImputer</span></a></label><div class=\"sk-toggleable__content fitted\"><pre>SimpleImputer()</pre></div> </div></div><div class=\"sk-item\"><div class=\"sk-estimator fitted sk-toggleable\"><input class=\"sk-toggleable__control sk-hidden--visually\" id=\"sk-estimator-id-4\" type=\"checkbox\" ><label for=\"sk-estimator-id-4\" class=\"sk-toggleable__label fitted sk-toggleable__label-arrow fitted\">&nbsp;Ridge<a class=\"sk-estimator-doc-link fitted\" rel=\"noreferrer\" target=\"_blank\" href=\"https://scikit-learn.org/1.5/modules/generated/sklearn.linear_model.Ridge.html\">?<span>Documentation for Ridge</span></a></label><div class=\"sk-toggleable__content fitted\"><pre>Ridge()</pre></div> </div></div></div></div></div></div>"
      ],
      "text/plain": [
       "Pipeline(steps=[('onehotencoder',\n",
       "                 OneHotEncoder(cols=['Borough', 'Job Type'],\n",
       "                               use_cat_names=True)),\n",
       "                ('simpleimputer', SimpleImputer()), ('ridge', Ridge())])"
      ]
     },
     "execution_count": 26,
     "metadata": {},
     "output_type": "execute_result"
    }
   ],
   "source": [
    "model = make_pipeline(\n",
    "    OneHotEncoder(use_cat_names=True),\n",
    "    SimpleImputer(),\n",
    "    Ridge()\n",
    ")\n",
    "\n",
    "model.fit(X_train, y_train)"
   ]
  },
  {
   "cell_type": "code",
   "execution_count": 27,
   "id": "67307717-3695-446d-9b28-54dd78e0aad8",
   "metadata": {},
   "outputs": [
    {
     "name": "stdout",
     "output_type": "stream",
     "text": [
      "Requirement already satisfied: openpyxl in c:\\users\\hp\\appdata\\local\\programs\\python\\python312\\lib\\site-packages (3.1.5)\n",
      "Requirement already satisfied: et-xmlfile in c:\\users\\hp\\appdata\\local\\programs\\python\\python312\\lib\\site-packages (from openpyxl) (2.0.0)\n",
      "Note: you may need to restart the kernel to use updated packages.\n"
     ]
    },
    {
     "name": "stderr",
     "output_type": "stream",
     "text": [
      "\n",
      "[notice] A new release of pip is available: 24.2 -> 24.3.1\n",
      "[notice] To update, run: python.exe -m pip install --upgrade pip\n"
     ]
    }
   ],
   "source": [
    "pip install openpyxl"
   ]
  },
  {
   "cell_type": "code",
   "execution_count": 28,
   "id": "0ebe48a7-661e-45d9-9e2f-314a7a8b490f",
   "metadata": {},
   "outputs": [],
   "source": [
    "X_test = pd.read_excel(r\"C:\\Users\\HP\\Downloads\\test_data.xlsx\")"
   ]
  },
  {
   "cell_type": "code",
   "execution_count": 29,
   "id": "cbdb6fb7-34b9-4738-adc7-1792d84dd0d7",
   "metadata": {},
   "outputs": [
    {
     "data": {
      "text/html": [
       "<div>\n",
       "<style scoped>\n",
       "    .dataframe tbody tr th:only-of-type {\n",
       "        vertical-align: middle;\n",
       "    }\n",
       "\n",
       "    .dataframe tbody tr th {\n",
       "        vertical-align: top;\n",
       "    }\n",
       "\n",
       "    .dataframe thead th {\n",
       "        text-align: right;\n",
       "    }\n",
       "</style>\n",
       "<table border=\"1\" class=\"dataframe\">\n",
       "  <thead>\n",
       "    <tr style=\"text-align: right;\">\n",
       "      <th></th>\n",
       "      <th>Borough</th>\n",
       "      <th>Job Type</th>\n",
       "    </tr>\n",
       "  </thead>\n",
       "  <tbody>\n",
       "    <tr>\n",
       "      <th>0</th>\n",
       "      <td>MANHATTAN</td>\n",
       "      <td>A2</td>\n",
       "    </tr>\n",
       "    <tr>\n",
       "      <th>1</th>\n",
       "      <td>MANHATTAN</td>\n",
       "      <td>A2</td>\n",
       "    </tr>\n",
       "    <tr>\n",
       "      <th>2</th>\n",
       "      <td>BROOKLYN</td>\n",
       "      <td>A1</td>\n",
       "    </tr>\n",
       "    <tr>\n",
       "      <th>3</th>\n",
       "      <td>BROOKLYN</td>\n",
       "      <td>A2</td>\n",
       "    </tr>\n",
       "    <tr>\n",
       "      <th>4</th>\n",
       "      <td>BROOKLYN</td>\n",
       "      <td>A1</td>\n",
       "    </tr>\n",
       "  </tbody>\n",
       "</table>\n",
       "</div>"
      ],
      "text/plain": [
       "     Borough Job Type\n",
       "0  MANHATTAN       A2\n",
       "1  MANHATTAN       A2\n",
       "2   BROOKLYN       A1\n",
       "3   BROOKLYN       A2\n",
       "4   BROOKLYN       A1"
      ]
     },
     "execution_count": 29,
     "metadata": {},
     "output_type": "execute_result"
    }
   ],
   "source": [
    "X_test.head()"
   ]
  },
  {
   "cell_type": "code",
   "execution_count": 30,
   "id": "a783a394-afec-4643-bee3-0c765e332469",
   "metadata": {},
   "outputs": [
    {
     "data": {
      "text/plain": [
       "14    119782.608696\n",
       "15    199565.217391\n",
       "16    199565.217391\n",
       "17    199565.217391\n",
       "18    119782.608696\n",
       "dtype: float64"
      ]
     },
     "execution_count": 30,
     "metadata": {},
     "output_type": "execute_result"
    }
   ],
   "source": [
    "y_test_pred = pd.Series(model.predict(X_test))\n",
    "y_test_pred.tail()"
   ]
  },
  {
   "cell_type": "code",
   "execution_count": 31,
   "id": "b13596e6-7d3c-459d-b303-250785c8ea64",
   "metadata": {},
   "outputs": [
    {
     "name": "stderr",
     "output_type": "stream",
     "text": [
      "C:\\Users\\HP\\AppData\\Local\\Programs\\Python\\Python312\\Lib\\site-packages\\category_encoders\\utils.py:379: FutureWarning:\n",
      "\n",
      "`get_feature_names` is deprecated in all of sklearn. Use `get_feature_names_out` instead.\n",
      "\n"
     ]
    },
    {
     "data": {
      "text/plain": [
       "Borough_BROOKLYN         -79782.608696\n",
       "Borough_STATEN ISLAND   -107173.913043\n",
       "Borough_QUEENS           186956.521739\n",
       "Job Type_A1                   0.000000\n",
       "dtype: float64"
      ]
     },
     "execution_count": 31,
     "metadata": {},
     "output_type": "execute_result"
    }
   ],
   "source": [
    "coefficients = model.named_steps[\"ridge\"].coef_\n",
    "feature_names = model.named_steps[\"onehotencoder\"].get_feature_names()\n",
    "feat_imp = pd.Series(coefficients, index=feature_names)\n",
    "feat_imp"
   ]
  },
  {
   "cell_type": "code",
   "execution_count": 32,
   "id": "8152fd2a-36b1-4a7f-bf9c-6c5377a91fd0",
   "metadata": {},
   "outputs": [
    {
     "data": {
      "text/plain": [
       "Text(0.5, 1.0, 'feature Importance for apartment initial cost')"
      ]
     },
     "execution_count": 32,
     "metadata": {},
     "output_type": "execute_result"
    },
    {
     "data": {
      "image/png": "[encoded data removed]",
      "text/plain": [
       "<Figure size 640x480 with 1 Axes>"
      ]
     },
     "metadata": {},
     "output_type": "display_data"
    }
   ],
   "source": [
    "feat_imp.sort_values(key=abs).tail(10).plot(kind=\"barh\")\n",
    "plt.xlabel(\"Importance [USD]\")\n",
    "plt.ylabel(\"feature\")\n",
    "plt.title(\"feature Importance for apartment initial cost\")"
   ]
  },
  {
   "cell_type": "code",
   "execution_count": 33,
   "id": "37c06db3-a14d-4caf-8666-ebeff19fef84",
   "metadata": {},
   "outputs": [
    {
     "ename": "TypeError",
     "evalue": "unhashable type: 'numpy.ndarray'",
     "output_type": "error",
     "traceback": [
      "\u001b[1;31m---------------------------------------------------------------------------\u001b[0m",
      "\u001b[1;31mTypeError\u001b[0m                                 Traceback (most recent call last)",
      "Cell \u001b[1;32mIn[33], line 1\u001b[0m\n\u001b[1;32m----> 1\u001b[0m \u001b[43mplt\u001b[49m\u001b[38;5;241;43m.\u001b[39;49m\u001b[43mplot\u001b[49m\u001b[43m(\u001b[49m\u001b[43mX_train\u001b[49m\u001b[38;5;241;43m.\u001b[39;49m\u001b[43mvalues\u001b[49m\u001b[43m,\u001b[49m\u001b[43m \u001b[49m\u001b[43mmodel\u001b[49m\u001b[38;5;241;43m.\u001b[39;49m\u001b[43mpredict\u001b[49m\u001b[43m(\u001b[49m\u001b[43mX_test\u001b[49m\u001b[43m)\u001b[49m\u001b[43m,\u001b[49m\u001b[43mcolor\u001b[49m\u001b[38;5;241;43m=\u001b[39;49m\u001b[38;5;124;43m\"\u001b[39;49m\u001b[38;5;124;43mred\u001b[39;49m\u001b[38;5;124;43m\"\u001b[39;49m\u001b[43m,\u001b[49m\u001b[43m \u001b[49m\u001b[43mlabel\u001b[49m\u001b[38;5;241;43m=\u001b[39;49m\u001b[38;5;124;43m\"\u001b[39;49m\u001b[38;5;124;43mLinear Model\u001b[39;49m\u001b[38;5;124;43m\"\u001b[39;49m\u001b[43m)\u001b[49m\n\u001b[0;32m      2\u001b[0m plt\u001b[38;5;241m.\u001b[39mscatter(X_train, y_train)\n",
      "File \u001b[1;32m~\\AppData\\Local\\Programs\\Python\\Python312\\Lib\\site-packages\\matplotlib\\pyplot.py:3794\u001b[0m, in \u001b[0;36mplot\u001b[1;34m(scalex, scaley, data, *args, **kwargs)\u001b[0m\n\u001b[0;32m   3786\u001b[0m \u001b[38;5;129m@_copy_docstring_and_deprecators\u001b[39m(Axes\u001b[38;5;241m.\u001b[39mplot)\n\u001b[0;32m   3787\u001b[0m \u001b[38;5;28;01mdef\u001b[39;00m \u001b[38;5;21mplot\u001b[39m(\n\u001b[0;32m   3788\u001b[0m     \u001b[38;5;241m*\u001b[39margs: \u001b[38;5;28mfloat\u001b[39m \u001b[38;5;241m|\u001b[39m ArrayLike \u001b[38;5;241m|\u001b[39m \u001b[38;5;28mstr\u001b[39m,\n\u001b[1;32m   (...)\u001b[0m\n\u001b[0;32m   3792\u001b[0m     \u001b[38;5;241m*\u001b[39m\u001b[38;5;241m*\u001b[39mkwargs,\n\u001b[0;32m   3793\u001b[0m ) \u001b[38;5;241m-\u001b[39m\u001b[38;5;241m>\u001b[39m \u001b[38;5;28mlist\u001b[39m[Line2D]:\n\u001b[1;32m-> 3794\u001b[0m     \u001b[38;5;28;01mreturn\u001b[39;00m \u001b[43mgca\u001b[49m\u001b[43m(\u001b[49m\u001b[43m)\u001b[49m\u001b[38;5;241;43m.\u001b[39;49m\u001b[43mplot\u001b[49m\u001b[43m(\u001b[49m\n\u001b[0;32m   3795\u001b[0m \u001b[43m        \u001b[49m\u001b[38;5;241;43m*\u001b[39;49m\u001b[43margs\u001b[49m\u001b[43m,\u001b[49m\n\u001b[0;32m   3796\u001b[0m \u001b[43m        \u001b[49m\u001b[43mscalex\u001b[49m\u001b[38;5;241;43m=\u001b[39;49m\u001b[43mscalex\u001b[49m\u001b[43m,\u001b[49m\n\u001b[0;32m   3797\u001b[0m \u001b[43m        \u001b[49m\u001b[43mscaley\u001b[49m\u001b[38;5;241;43m=\u001b[39;49m\u001b[43mscaley\u001b[49m\u001b[43m,\u001b[49m\n\u001b[0;32m   3798\u001b[0m \u001b[43m        \u001b[49m\u001b[38;5;241;43m*\u001b[39;49m\u001b[38;5;241;43m*\u001b[39;49m\u001b[43m(\u001b[49m\u001b[43m{\u001b[49m\u001b[38;5;124;43m\"\u001b[39;49m\u001b[38;5;124;43mdata\u001b[39;49m\u001b[38;5;124;43m\"\u001b[39;49m\u001b[43m:\u001b[49m\u001b[43m \u001b[49m\u001b[43mdata\u001b[49m\u001b[43m}\u001b[49m\u001b[43m \u001b[49m\u001b[38;5;28;43;01mif\u001b[39;49;00m\u001b[43m \u001b[49m\u001b[43mdata\u001b[49m\u001b[43m \u001b[49m\u001b[38;5;129;43;01mis\u001b[39;49;00m\u001b[43m \u001b[49m\u001b[38;5;129;43;01mnot\u001b[39;49;00m\u001b[43m \u001b[49m\u001b[38;5;28;43;01mNone\u001b[39;49;00m\u001b[43m \u001b[49m\u001b[38;5;28;43;01melse\u001b[39;49;00m\u001b[43m \u001b[49m\u001b[43m{\u001b[49m\u001b[43m}\u001b[49m\u001b[43m)\u001b[49m\u001b[43m,\u001b[49m\n\u001b[0;32m   3799\u001b[0m \u001b[43m        \u001b[49m\u001b[38;5;241;43m*\u001b[39;49m\u001b[38;5;241;43m*\u001b[39;49m\u001b[43mkwargs\u001b[49m\u001b[43m,\u001b[49m\n\u001b[0;32m   3800\u001b[0m \u001b[43m    \u001b[49m\u001b[43m)\u001b[49m\n",
      "File \u001b[1;32m~\\AppData\\Local\\Programs\\Python\\Python312\\Lib\\site-packages\\matplotlib\\axes\\_axes.py:1779\u001b[0m, in \u001b[0;36mAxes.plot\u001b[1;34m(self, scalex, scaley, data, *args, **kwargs)\u001b[0m\n\u001b[0;32m   1536\u001b[0m \u001b[38;5;250m\u001b[39m\u001b[38;5;124;03m\"\"\"\u001b[39;00m\n\u001b[0;32m   1537\u001b[0m \u001b[38;5;124;03mPlot y versus x as lines and/or markers.\u001b[39;00m\n\u001b[0;32m   1538\u001b[0m \n\u001b[1;32m   (...)\u001b[0m\n\u001b[0;32m   1776\u001b[0m \u001b[38;5;124;03m(``'green'``) or hex strings (``'#008000'``).\u001b[39;00m\n\u001b[0;32m   1777\u001b[0m \u001b[38;5;124;03m\"\"\"\u001b[39;00m\n\u001b[0;32m   1778\u001b[0m kwargs \u001b[38;5;241m=\u001b[39m cbook\u001b[38;5;241m.\u001b[39mnormalize_kwargs(kwargs, mlines\u001b[38;5;241m.\u001b[39mLine2D)\n\u001b[1;32m-> 1779\u001b[0m lines \u001b[38;5;241m=\u001b[39m [\u001b[38;5;241m*\u001b[39m\u001b[38;5;28mself\u001b[39m\u001b[38;5;241m.\u001b[39m_get_lines(\u001b[38;5;28mself\u001b[39m, \u001b[38;5;241m*\u001b[39margs, data\u001b[38;5;241m=\u001b[39mdata, \u001b[38;5;241m*\u001b[39m\u001b[38;5;241m*\u001b[39mkwargs)]\n\u001b[0;32m   1780\u001b[0m \u001b[38;5;28;01mfor\u001b[39;00m line \u001b[38;5;129;01min\u001b[39;00m lines:\n\u001b[0;32m   1781\u001b[0m     \u001b[38;5;28mself\u001b[39m\u001b[38;5;241m.\u001b[39madd_line(line)\n",
      "File \u001b[1;32m~\\AppData\\Local\\Programs\\Python\\Python312\\Lib\\site-packages\\matplotlib\\axes\\_base.py:296\u001b[0m, in \u001b[0;36m_process_plot_var_args.__call__\u001b[1;34m(self, axes, data, *args, **kwargs)\u001b[0m\n\u001b[0;32m    294\u001b[0m     this \u001b[38;5;241m+\u001b[39m\u001b[38;5;241m=\u001b[39m args[\u001b[38;5;241m0\u001b[39m],\n\u001b[0;32m    295\u001b[0m     args \u001b[38;5;241m=\u001b[39m args[\u001b[38;5;241m1\u001b[39m:]\n\u001b[1;32m--> 296\u001b[0m \u001b[38;5;28;01myield from\u001b[39;00m \u001b[38;5;28;43mself\u001b[39;49m\u001b[38;5;241;43m.\u001b[39;49m\u001b[43m_plot_args\u001b[49m\u001b[43m(\u001b[49m\n\u001b[0;32m    297\u001b[0m \u001b[43m    \u001b[49m\u001b[43maxes\u001b[49m\u001b[43m,\u001b[49m\u001b[43m \u001b[49m\u001b[43mthis\u001b[49m\u001b[43m,\u001b[49m\u001b[43m \u001b[49m\u001b[43mkwargs\u001b[49m\u001b[43m,\u001b[49m\u001b[43m \u001b[49m\u001b[43mambiguous_fmt_datakey\u001b[49m\u001b[38;5;241;43m=\u001b[39;49m\u001b[43mambiguous_fmt_datakey\u001b[49m\u001b[43m)\u001b[49m\n",
      "File \u001b[1;32m~\\AppData\\Local\\Programs\\Python\\Python312\\Lib\\site-packages\\matplotlib\\axes\\_base.py:481\u001b[0m, in \u001b[0;36m_process_plot_var_args._plot_args\u001b[1;34m(self, axes, tup, kwargs, return_kwargs, ambiguous_fmt_datakey)\u001b[0m\n\u001b[0;32m    478\u001b[0m     x, y \u001b[38;5;241m=\u001b[39m index_of(xy[\u001b[38;5;241m-\u001b[39m\u001b[38;5;241m1\u001b[39m])\n\u001b[0;32m    480\u001b[0m \u001b[38;5;28;01mif\u001b[39;00m axes\u001b[38;5;241m.\u001b[39mxaxis \u001b[38;5;129;01mis\u001b[39;00m \u001b[38;5;129;01mnot\u001b[39;00m \u001b[38;5;28;01mNone\u001b[39;00m:\n\u001b[1;32m--> 481\u001b[0m     \u001b[43maxes\u001b[49m\u001b[38;5;241;43m.\u001b[39;49m\u001b[43mxaxis\u001b[49m\u001b[38;5;241;43m.\u001b[39;49m\u001b[43mupdate_units\u001b[49m\u001b[43m(\u001b[49m\u001b[43mx\u001b[49m\u001b[43m)\u001b[49m\n\u001b[0;32m    482\u001b[0m \u001b[38;5;28;01mif\u001b[39;00m axes\u001b[38;5;241m.\u001b[39myaxis \u001b[38;5;129;01mis\u001b[39;00m \u001b[38;5;129;01mnot\u001b[39;00m \u001b[38;5;28;01mNone\u001b[39;00m:\n\u001b[0;32m    483\u001b[0m     axes\u001b[38;5;241m.\u001b[39myaxis\u001b[38;5;241m.\u001b[39mupdate_units(y)\n",
      "File \u001b[1;32m~\\AppData\\Local\\Programs\\Python\\Python312\\Lib\\site-packages\\matplotlib\\axis.py:1756\u001b[0m, in \u001b[0;36mAxis.update_units\u001b[1;34m(self, data)\u001b[0m\n\u001b[0;32m   1754\u001b[0m neednew \u001b[38;5;241m=\u001b[39m \u001b[38;5;28mself\u001b[39m\u001b[38;5;241m.\u001b[39mconverter \u001b[38;5;241m!=\u001b[39m converter\n\u001b[0;32m   1755\u001b[0m \u001b[38;5;28mself\u001b[39m\u001b[38;5;241m.\u001b[39mconverter \u001b[38;5;241m=\u001b[39m converter\n\u001b[1;32m-> 1756\u001b[0m default \u001b[38;5;241m=\u001b[39m \u001b[38;5;28;43mself\u001b[39;49m\u001b[38;5;241;43m.\u001b[39;49m\u001b[43mconverter\u001b[49m\u001b[38;5;241;43m.\u001b[39;49m\u001b[43mdefault_units\u001b[49m\u001b[43m(\u001b[49m\u001b[43mdata\u001b[49m\u001b[43m,\u001b[49m\u001b[43m \u001b[49m\u001b[38;5;28;43mself\u001b[39;49m\u001b[43m)\u001b[49m\n\u001b[0;32m   1757\u001b[0m \u001b[38;5;28;01mif\u001b[39;00m default \u001b[38;5;129;01mis\u001b[39;00m \u001b[38;5;129;01mnot\u001b[39;00m \u001b[38;5;28;01mNone\u001b[39;00m \u001b[38;5;129;01mand\u001b[39;00m \u001b[38;5;28mself\u001b[39m\u001b[38;5;241m.\u001b[39munits \u001b[38;5;129;01mis\u001b[39;00m \u001b[38;5;28;01mNone\u001b[39;00m:\n\u001b[0;32m   1758\u001b[0m     \u001b[38;5;28mself\u001b[39m\u001b[38;5;241m.\u001b[39mset_units(default)\n",
      "File \u001b[1;32m~\\AppData\\Local\\Programs\\Python\\Python312\\Lib\\site-packages\\matplotlib\\category.py:105\u001b[0m, in \u001b[0;36mStrCategoryConverter.default_units\u001b[1;34m(data, axis)\u001b[0m\n\u001b[0;32m    103\u001b[0m \u001b[38;5;66;03m# the conversion call stack is default_units -> axis_info -> convert\u001b[39;00m\n\u001b[0;32m    104\u001b[0m \u001b[38;5;28;01mif\u001b[39;00m axis\u001b[38;5;241m.\u001b[39munits \u001b[38;5;129;01mis\u001b[39;00m \u001b[38;5;28;01mNone\u001b[39;00m:\n\u001b[1;32m--> 105\u001b[0m     axis\u001b[38;5;241m.\u001b[39mset_units(\u001b[43mUnitData\u001b[49m\u001b[43m(\u001b[49m\u001b[43mdata\u001b[49m\u001b[43m)\u001b[49m)\n\u001b[0;32m    106\u001b[0m \u001b[38;5;28;01melse\u001b[39;00m:\n\u001b[0;32m    107\u001b[0m     axis\u001b[38;5;241m.\u001b[39munits\u001b[38;5;241m.\u001b[39mupdate(data)\n",
      "File \u001b[1;32m~\\AppData\\Local\\Programs\\Python\\Python312\\Lib\\site-packages\\matplotlib\\category.py:181\u001b[0m, in \u001b[0;36mUnitData.__init__\u001b[1;34m(self, data)\u001b[0m\n\u001b[0;32m    179\u001b[0m \u001b[38;5;28mself\u001b[39m\u001b[38;5;241m.\u001b[39m_counter \u001b[38;5;241m=\u001b[39m itertools\u001b[38;5;241m.\u001b[39mcount()\n\u001b[0;32m    180\u001b[0m \u001b[38;5;28;01mif\u001b[39;00m data \u001b[38;5;129;01mis\u001b[39;00m \u001b[38;5;129;01mnot\u001b[39;00m \u001b[38;5;28;01mNone\u001b[39;00m:\n\u001b[1;32m--> 181\u001b[0m     \u001b[38;5;28;43mself\u001b[39;49m\u001b[38;5;241;43m.\u001b[39;49m\u001b[43mupdate\u001b[49m\u001b[43m(\u001b[49m\u001b[43mdata\u001b[49m\u001b[43m)\u001b[49m\n",
      "File \u001b[1;32m~\\AppData\\Local\\Programs\\Python\\Python312\\Lib\\site-packages\\matplotlib\\category.py:214\u001b[0m, in \u001b[0;36mUnitData.update\u001b[1;34m(self, data)\u001b[0m\n\u001b[0;32m    212\u001b[0m \u001b[38;5;66;03m# check if convertible to number:\u001b[39;00m\n\u001b[0;32m    213\u001b[0m convertible \u001b[38;5;241m=\u001b[39m \u001b[38;5;28;01mTrue\u001b[39;00m\n\u001b[1;32m--> 214\u001b[0m \u001b[38;5;28;01mfor\u001b[39;00m val \u001b[38;5;129;01min\u001b[39;00m \u001b[43mOrderedDict\u001b[49m\u001b[38;5;241;43m.\u001b[39;49m\u001b[43mfromkeys\u001b[49m\u001b[43m(\u001b[49m\u001b[43mdata\u001b[49m\u001b[43m)\u001b[49m:\n\u001b[0;32m    215\u001b[0m     \u001b[38;5;66;03m# OrderedDict just iterates over unique values in data.\u001b[39;00m\n\u001b[0;32m    216\u001b[0m     _api\u001b[38;5;241m.\u001b[39mcheck_isinstance((\u001b[38;5;28mstr\u001b[39m, \u001b[38;5;28mbytes\u001b[39m), value\u001b[38;5;241m=\u001b[39mval)\n\u001b[0;32m    217\u001b[0m     \u001b[38;5;28;01mif\u001b[39;00m convertible:\n\u001b[0;32m    218\u001b[0m         \u001b[38;5;66;03m# this will only be called so long as convertible is True.\u001b[39;00m\n",
      "\u001b[1;31mTypeError\u001b[0m: unhashable type: 'numpy.ndarray'"
     ]
    },
    {
     "data": {
      "image/png": "[encoded data removed]",
      "text/plain": [
       "<Figure size 640x480 with 1 Axes>"
      ]
     },
     "metadata": {},
     "output_type": "display_data"
    }
   ],
   "source": [
    "plt.plot(X_train.values, model.predict(X_test),color=\"red\", label=\"Linear Model\")\n",
    "plt.scatter(X_train, y_train)\n"
   ]
  },
  {
   "cell_type": "code",
   "execution_count": null,
   "id": "22666103-7faa-414b-b187-8e1ad4cd2e35",
   "metadata": {},
   "outputs": [],
   "source": []
  }
 ],
 "metadata": {
  "kernelspec": {
   "display_name": "Python 3 (ipykernel)",
   "language": "python",
   "name": "python3"
  },
  "language_info": {
   "codemirror_mode": {
    "name": "ipython",
    "version": 3
   },
   "file_extension": ".py",
   "mimetype": "text/x-python",
   "name": "python",
   "nbconvert_exporter": "python",
   "pygments_lexer": "ipython3",
   "version": "3.12.6"
  }
 },
 "nbformat": 4,
 "nbformat_minor": 5
}
